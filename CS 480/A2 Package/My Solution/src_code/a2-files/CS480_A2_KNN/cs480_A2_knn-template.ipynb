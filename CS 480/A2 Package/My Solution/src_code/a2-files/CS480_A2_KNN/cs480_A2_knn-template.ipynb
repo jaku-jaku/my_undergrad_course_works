{
 "cells": [
  {
   "cell_type": "markdown",
   "metadata": {},
   "source": [
    "# Description\n",
    "\n",
    "The knn-dataset folder contains 4 files as follows:\n",
    "*   **train_data**: numpy array of N training data points x M features\n",
    "*   **train_labels**: numpy array of N training labels\n",
    "*   **test_data**: numpy array of N' test data points x M features\n",
    "*   **test_labels**: numpy array of N' test labels\n",
    "\n",
    "Each data point is related to one 8x8 greyscale image of a handwritten digit. This modified dataset contains only the similar digits 5, 6, and 8. Each feature represents a count of the number of 0s (black squares) in a sliding 5x5 window over the original image. This doesn't impact the implementation, just noted so that you aren't confused if you plot one of the images. \n",
    "\n",
    "Complete the assignment questions by filling out the function templates below. The goal is to determine the optimal hyperparameter (number of neighbours) using 5-fold cross-validation. We will use a hyperperameter range of 1 to 30.\n",
    " \n",
    " \n",
    "### Other Considerations:\n",
    "- You do not need to shuffle the data (including in your CV implementation)\n",
    "- How could you approach a tie (equal number of neighbours from each classes around an unlabeled datapoint)\n",
    "\n",
    "**Do not modify the code in the Main KNN Code section. Use only the libraries provided.**  "
   ]
  },
  {
   "cell_type": "markdown",
   "metadata": {
    "colab_type": "text",
    "id": "LZDpxE4jmFwA"
   },
   "source": [
    "# Imports"
   ]
  },
  {
   "cell_type": "code",
   "execution_count": 1,
   "metadata": {
    "colab": {},
    "colab_type": "code",
    "id": "m_1d0BPfmacB"
   },
   "outputs": [],
   "source": [
    "import numpy as np\n",
    "import matplotlib.pyplot as plt"
   ]
  },
  {
   "cell_type": "markdown",
   "metadata": {
    "colab_type": "text",
    "id": "NYesJygrmgHM"
   },
   "source": [
    "# Load Data"
   ]
  },
  {
   "cell_type": "code",
   "execution_count": 2,
   "metadata": {
    "colab": {},
    "colab_type": "code",
    "id": "7goFIgwnomoo"
   },
   "outputs": [],
   "source": [
    "def load_data():\n",
    "    train_data = np.genfromtxt('train_data.csv', delimiter=',')\n",
    "    train_labels = np.genfromtxt('train_labels.csv', delimiter=',')\n",
    "    test_data = np.genfromtxt('test_data.csv', delimiter=',')\n",
    "    test_labels = np.genfromtxt('test_labels.csv', delimiter=',')\n",
    "    return train_data, train_labels, test_data, test_labels\n",
    "\n",
    "train_data, train_labels, test_data, test_labels = load_data()"
   ]
  },
  {
   "cell_type": "markdown",
   "metadata": {
    "colab_type": "text",
    "id": "Y87Mnf21owf0"
   },
   "source": [
    "# Function: predict_knn\n",
    "\n",
    "This function uses the KNN classifier to predict the label of a data point.\n",
    "\n",
    "Inputs:\n",
    "*   **x**: input data point to predict (numpy array of M features)\n",
    "*   **inputs**: matrix of neighbouring data points. (numpy array of N data points x M features)\n",
    "*   **labels**: vector of labels associated with x  (numpy array of N labels)\n",
    "*   **k_neighbours**: # of nearest neighbours that will be used\n",
    "\n",
    "Output:\n",
    "*   **predicted_label**: predicted label (integer)"
   ]
  },
  {
   "cell_type": "code",
   "execution_count": 3,
   "metadata": {
    "colab": {},
    "colab_type": "code",
    "id": "MNXK7L5wpOEa"
   },
   "outputs": [],
   "source": [
    "def predict_knn(x, inputs, labels, k_neighbours):\n",
    "    predicted_label = 0\n",
    "    return predicted_label"
   ]
  },
  {
   "cell_type": "markdown",
   "metadata": {
    "colab_type": "text",
    "id": "I7bIamtprLxK"
   },
   "source": [
    "# Function: eval_knn\n",
    "\n",
    "This function evaluates the accuracy of the KNN classifier on a dataset.  The dataset to be evaluated consists of (inputs, labels).  The dataset used to find nearest neighbours consists of (train_data, train_labels).\n",
    "\n",
    "Inputs:\n",
    "*   **inputs**: matrix of input data points to be evaluated (numpy array of N data points x M features)\n",
    "*   **labels**: vector of target labels for the inputs (numpy array of N labels)\n",
    "*   **train_data**: matrix of input data points in which neighbours will be found (numpy array of N' data points x M features)\n",
    "*   **train_labels**: vector of labels for the training inputs (numpy array of N' labels)\n",
    "*   **k_neighbours**: # of nearest neighbours to be used (integer)\n",
    "\n",
    "Outputs:\n",
    "*   **accuracy**: percentage of correctly labeled data points\n",
    "\n",
    "\n"
   ]
  },
  {
   "cell_type": "code",
   "execution_count": 4,
   "metadata": {
    "colab": {},
    "colab_type": "code",
    "id": "MCQe7L8XrjdI"
   },
   "outputs": [],
   "source": [
    "def eval_knn(inputs, labels, train_data, train_labels, k_neighbours):\n",
    "    accuracy = 0\n",
    "    return accuracy"
   ]
  },
  {
   "cell_type": "markdown",
   "metadata": {
    "colab_type": "text",
    "id": "rXNO9nXb1beV"
   },
   "source": [
    "# Function: cross_validation_knn\n",
    "\n",
    "This function performs k-fold cross validation to determine the best number of neighbours for KNN.\n",
    "\n",
    "Inputs:\n",
    "*   **k_folds**: # of folds in cross-validation (integer)\n",
    "*   **hyperparameters**: list of hyperparameters where each hyperparameter is a different # of neighbours (list of integers)\n",
    "*   **inputs**: matrix of data points to be used when searching for neighbours (numpy array of N data points by M features)\n",
    "*   **labels**: vector of labels associated with the inputs (numpy array of N labels)\n",
    "\n",
    "Outputs:\n",
    "*   **best_k**: best # of neighbours for KNN (integer)\n",
    "*   **best_accuracy**: accuracy achieved with best_k (float)\n",
    "*   **accuracies**: vector of accuracies for the corresponding hyperparameters (numpy array of floats)"
   ]
  },
  {
   "cell_type": "code",
   "execution_count": 5,
   "metadata": {
    "colab": {},
    "colab_type": "code",
    "id": "VpHnYR3x1mFZ"
   },
   "outputs": [],
   "source": [
    "def cross_validation_knn(k_folds, hyperparameters, inputs, labels):\n",
    "    best_k = 0\n",
    "    best_accuracy = 0\n",
    "    accuracies = np.zeros(len(hyperparameters))\n",
    "    return best_k, best_accuracy, accuracies"
   ]
  },
  {
   "cell_type": "markdown",
   "metadata": {
    "colab_type": "text",
    "id": "qb31YTWg4rSm"
   },
   "source": [
    "# Function: plot_knn_accuracies\n",
    "\n",
    "Function that plots the KNN accuracies for different # of neighbours (hyperparameters) based on cross validation\n",
    "\n",
    "Inputs:\n",
    "*   **accuracies**: vector of accuracies for the corresponding hyperparameters (numpy array of floats)\n",
    "*   **hyperparams**: list of hyperparameters where each hyperparameter is a different # of neighbours (list of integers)\n"
   ]
  },
  {
   "cell_type": "code",
   "execution_count": 6,
   "metadata": {
    "colab": {},
    "colab_type": "code",
    "id": "MpbE_-Yt5HiI"
   },
   "outputs": [],
   "source": [
    "def plot_knn_accuracies(accuracies,hyperparams):\n",
    "    plt.plot(hyperparams,accuracies)\n",
    "    plt.ylabel('accuracy')\n",
    "    plt.xlabel('k neighbours')\n",
    "    plt.show()  "
   ]
  },
  {
   "cell_type": "markdown",
   "metadata": {
    "colab_type": "text",
    "id": "iF2YiZnMaws8"
   },
   "source": [
    "# Main KNN code (Please do not modify)\n",
    "\n",
    "Use k-fold cross validation to find the best # of neighbours for KNN.\n",
    "Plot accuracies for different # of neighbours.\n",
    "Test KNN with the best # of neighbours."
   ]
  },
  {
   "cell_type": "code",
   "execution_count": 7,
   "metadata": {
    "colab": {},
    "colab_type": "code",
    "id": "Qw6MLmQ8bpA1",
    "scrolled": true
   },
   "outputs": [
    {
     "data": {
      "image/png": "[encoded data removed]",
      "text/plain": [
       "<Figure size 432x288 with 1 Axes>"
      ]
     },
     "metadata": {
      "needs_background": "light"
     },
     "output_type": "display_data"
    },
    {
     "name": "stdout",
     "output_type": "stream",
     "text": [
      "best # of neighbours k: 0\n",
      "best cross validation accuracy: 0\n",
      "test accuracy: 0\n"
     ]
    }
   ],
   "source": [
    "# number of neighbours to be evaluated by cross validation\n",
    "hyperparams = range(1,31)\n",
    "k_folds = 5\n",
    "best_k_neighbours, best_accuracy, accuracies = cross_validation_knn(k_folds, hyperparams, train_data, train_labels)\n",
    "\n",
    "# plot results\n",
    "plot_knn_accuracies(accuracies, hyperparams)\n",
    "print('best # of neighbours k: ' + str(best_k_neighbours))\n",
    "print('best cross validation accuracy: ' + str(best_accuracy))\n",
    "\n",
    "# evaluate with best # of neighbours\n",
    "accuracy = eval_knn(test_data, test_labels, train_data, train_labels, best_k_neighbours)\n",
    "print('test accuracy: '+ str(accuracy))"
   ]
  },
  {
   "cell_type": "code",
   "execution_count": null,
   "metadata": {},
   "outputs": [],
   "source": []
  }
 ],
 "metadata": {
  "colab": {
   "name": "cs480_fall20_asst1_knn_skeleton.ipynb",
   "provenance": []
  },
  "kernelspec": {
   "display_name": "Python 3",
   "language": "python",
   "name": "python3"
  },
  "language_info": {
   "codemirror_mode": {
    "name": "ipython",
    "version": 3
   },
   "file_extension": ".py",
   "mimetype": "text/x-python",
   "name": "python",
   "nbconvert_exporter": "python",
   "pygments_lexer": "ipython3",
   "version": "3.8.7"
  }
 },
 "nbformat": 4,
 "nbformat_minor": 1
}
