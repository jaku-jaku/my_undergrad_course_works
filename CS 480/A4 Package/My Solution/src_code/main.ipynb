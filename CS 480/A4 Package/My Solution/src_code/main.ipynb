{
 "metadata": {
  "language_info": {
   "codemirror_mode": {
    "name": "ipython",
    "version": 3
   },
   "file_extension": ".py",
   "mimetype": "text/x-python",
   "name": "python",
   "nbconvert_exporter": "python",
   "pygments_lexer": "ipython3",
   "version": "3.8.3-final"
  },
  "orig_nbformat": 2,
  "kernelspec": {
   "name": "python3",
   "display_name": "Python 3.8.3 64-bit ('base': conda)",
   "metadata": {
    "interpreter": {
     "hash": "95f5e6bcab80aaa5b63a63ca7d4788b69e7d528d1b5d39c579840ad9c91453be"
    }
   }
  }
 },
 "nbformat": 4,
 "nbformat_minor": 2,
 "cells": [
  {
   "cell_type": "code",
   "execution_count": 1,
   "metadata": {},
   "outputs": [],
   "source": [
    "import a4_lib\n",
    "import a4_ex1_solution\n",
    "import torch"
   ]
  },
  {
   "cell_type": "code",
   "execution_count": 2,
   "metadata": {},
   "outputs": [],
   "source": [
    "NUM_EPOCH       = 2\n",
    "LEARNING_RATE   = 0.001\n",
    "BATCH_SIZE      = 100\n",
    "MAX_SAMPLES     = None # Default: None => all data\n",
    "VERBOSE_LEVEL   = a4_lib.VerboseLevel.HIGH"
   ]
  },
  {
   "cell_type": "code",
   "execution_count": null,
   "metadata": {},
   "outputs": [],
   "source": [
    "# Raw Trial:\n",
    "model1 = a4_ex1_solution.solve_a4_ex1(\n",
    "    # USER DEFINE: ----- ----- ----- ----- ----- ----- ----- ----- ----- #\n",
    "    TOTA_NUM_EPOCHS = NUM_EPOCH,\n",
    "    LEARNING_RATE   = LEARNING_RATE,\n",
    "    BATCH_SIZE      = BATCH_SIZE,\n",
    "    MAX_SAMPLES     = MAX_SAMPLES, # Default: None => all data\n",
    "    # const:\n",
    "    OUT_DIR_E1      = \"output/E1\",\n",
    "    IMG_SIZE        = (32, 32),\n",
    "    VERBOSE_LEVEL   = a4_lib.VerboseLevel.HIGH,\n",
    "    TRAINING_AUG    = [], # Options: [\"HFlip\", \"VFlip\", \"GAUSS-0.01\"],\n",
    ")"
   ]
  },
  {
   "cell_type": "code",
   "execution_count": null,
   "metadata": {},
   "outputs": [],
   "source": [
    "# Augmented Trial\n",
    "model2 = a4_ex1_solution.solve_a4_ex1(\n",
    "    # USER DEFINE: ----- ----- ----- ----- ----- ----- ----- ----- ----- #\n",
    "    TOTA_NUM_EPOCHS = NUM_EPOCH,\n",
    "    LEARNING_RATE   = LEARNING_RATE,\n",
    "    BATCH_SIZE      = BATCH_SIZE,\n",
    "    MAX_SAMPLES     = MAX_SAMPLES, # Default: None => all data\n",
    "    # const:\n",
    "    OUT_DIR_E1      = \"output/E1\",\n",
    "    IMG_SIZE        = (32, 32),\n",
    "    VERBOSE_LEVEL   = a4_lib.VerboseLevel.HIGH,\n",
    "    TRAINING_AUG    = [\"HFlip\", \"VFlip\", \"GAUSS-0p5-0p5\"],\n",
    ")"
   ]
  },
  {
   "cell_type": "code",
   "execution_count": null,
   "metadata": {},
   "outputs": [],
   "source": [
    "import numpy as np\n",
    "import matplotlib.pyplot as plt\n",
    "\n",
    "for aug in [\"HFlip-1\", \"VFlip-1\", \"GAUSS-0.01\", \"GAUSS-0.1\", \"GAUSS-1\"]:\n",
    "    test_dataset  = a4_lib.A4_EX1_CNN_HELPER.load_mnist_data(\n",
    "        batch_size   = 1, \n",
    "        resize       = (32, 32), # NOTE: make sure you understand why\n",
    "        n_workers    = 1,\n",
    "        augmentation = [aug], # Options: [\"HFlip\", \"VFlip\", \"GAUSS-0.01\"],\n",
    "        shuffle      = False,\n",
    "        train_set    = False,\n",
    "    )\n",
    "    test_sample = None\n",
    "    test_label = None\n",
    "    for x, label in test_dataset:\n",
    "        test_sample = x\n",
    "        test_label = label\n",
    "        break\n",
    "\n",
    "    plt.figure()\n",
    "    plt.imshow(test_sample[0][0], \"gray\")\n",
    "\n",
    "    y_pred1 = model1(test_sample).argmax(dim=1)\n",
    "    y_pred2 = model2(test_sample).argmax(dim=1)\n",
    "\n",
    "    print(\"> [{}] p1:{}, p2:{}\".format(test_label, y_pred1, y_pred2))"
   ]
  },
  {
   "cell_type": "code",
   "execution_count": null,
   "metadata": {},
   "outputs": [],
   "source": []
  }
 ]
}