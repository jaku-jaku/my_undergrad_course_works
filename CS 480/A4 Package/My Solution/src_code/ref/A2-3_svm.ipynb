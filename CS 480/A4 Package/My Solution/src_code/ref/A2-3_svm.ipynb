{
 "metadata": {
  "language_info": {
   "codemirror_mode": {
    "name": "ipython",
    "version": 3
   },
   "file_extension": ".py",
   "mimetype": "text/x-python",
   "name": "python",
   "nbconvert_exporter": "python",
   "pygments_lexer": "ipython3",
   "version": "3.8.3-final"
  },
  "orig_nbformat": 2,
  "kernelspec": {
   "name": "python3",
   "display_name": "Python 3",
   "language": "python"
  }
 },
 "nbformat": 4,
 "nbformat_minor": 2,
 "cells": [
  {
   "cell_type": "code",
   "execution_count": 20,
   "metadata": {},
   "outputs": [],
   "source": [
    "# python\n",
    "import numpy as np\n",
    "import matplotlib.pyplot as plt\n",
    "\n",
    "# sklearn\n",
    "from sklearn.svm import SVC\n",
    "from sklearn.pipeline import make_pipeline\n",
    "from sklearn.preprocessing import StandardScaler\n",
    "from sklearn.metrics import mean_squared_error\n",
    "\n",
    "# stats\n",
    "import statsmodels.api as sm "
   ]
  },
  {
   "cell_type": "code",
   "execution_count": 21,
   "metadata": {},
   "outputs": [],
   "source": [
    "## Load Test/Train Data\n",
    "DATA = {\n",
    "    \"A\": {\n",
    "        \"train\": {\n",
    "            \"X\": np.loadtxt(open(\"a2-files/X_train_A.csv\"), delimiter=\",\"),\n",
    "            \"Y\": np.loadtxt(open(\"a2-files/Y_train_A.csv\"), delimiter=\",\"),\n",
    "        }\n",
    "    },\n",
    "    \"B\": {\n",
    "        \"train\": {\n",
    "            \"X\": np.loadtxt(open(\"a2-files/X_train_B.csv\"), delimiter=\",\"),\n",
    "            \"Y\": np.loadtxt(open(\"a2-files/Y_train_B.csv\"), delimiter=\",\"),\n",
    "        },\n",
    "        \"test\": {\n",
    "            \"X\": np.loadtxt(open(\"a2-files/X_test_B.csv\"), delimiter=\",\"),\n",
    "            \"Y\": np.loadtxt(open(\"a2-files/Y_test_B.csv\"), delimiter=\",\"),\n",
    "        }\n",
    "    },\n",
    "}\n"
   ]
  },
  {
   "cell_type": "code",
   "execution_count": 22,
   "metadata": {},
   "outputs": [
    {
     "output_type": "execute_result",
     "data": {
      "text/plain": [
       "SVC(C=inf, kernel='linear')"
      ]
     },
     "metadata": {},
     "execution_count": 22
    }
   ],
   "source": [
    "# SVC-Soft\n",
    "svc_regr_soft = SVC(\n",
    "    C=1.0, # regularization\n",
    "    kernel='linear'\n",
    ")\n",
    "svc_regr_soft.fit(DATA[\"A\"][\"train\"][\"X\"], DATA[\"A\"][\"train\"][\"Y\"])\n",
    "\n",
    "# SVC-Hard\n",
    "svc_regr_hard = SVC(\n",
    "    C=float('inf'), # regularization\n",
    "    kernel='linear'\n",
    ")\n",
    "svc_regr_hard.fit(DATA[\"A\"][\"train\"][\"X\"], DATA[\"A\"][\"train\"][\"Y\"])\n"
   ]
  },
  {
   "cell_type": "code",
   "execution_count": 23,
   "metadata": {},
   "outputs": [
    {
     "output_type": "execute_result",
     "data": {
      "text/plain": [
       "(2000, 50)"
      ]
     },
     "metadata": {},
     "execution_count": 23
    }
   ],
   "source": [
    "np.shape(DATA[\"A\"][\"train\"][\"X\"])"
   ]
  },
  {
   "cell_type": "code",
   "execution_count": 24,
   "metadata": {},
   "outputs": [
    {
     "output_type": "stream",
     "name": "stdout",
     "text": [
      "[SM]: PerfectSeparationError: Perfect separation detected, results not available\n"
     ]
    }
   ],
   "source": [
    "# SM-Soft : PerfectSeparationError: Perfect separation detected, results not available\n",
    "# sm_logit = sm.Logit(DATA[\"A\"][\"train\"][\"Y\"],DATA[\"A\"][\"train\"][\"X\"]).fit() \n",
    "print(\"[SM]: PerfectSeparationError: Perfect separation detected, results not available\")\n"
   ]
  },
  {
   "cell_type": "code",
   "execution_count": 25,
   "metadata": {},
   "outputs": [
    {
     "output_type": "stream",
     "name": "stdout",
     "text": [
      "w_hard =  [[-1.21665426e-01  3.62093715e-04 -8.14547914e-02 -1.30461544e-01\n   1.03679744e-01 -1.52182440e-01  1.04733167e-01  2.37085565e-02\n   1.88904300e-01  4.14259231e-01 -5.74918926e-02  2.53091455e-02\n  -9.57967331e-02  2.78213946e-01  1.26402871e-02  4.24952941e-02\n  -1.08058239e-01 -3.17898534e-02  3.32288614e-03  1.71401564e-01\n  -6.93185355e-02 -2.85727264e-01 -1.11431511e-01 -2.81551300e-02\n   7.14262962e-02  1.98803054e-01 -1.89996218e-01  9.63349060e-02\n   1.20110591e-01 -5.53355480e-02 -4.29452659e-03 -1.10216493e-01\n  -1.57449276e-01  3.64106600e-02 -4.35440021e-02 -1.42084333e-01\n   1.30750877e-01  2.68330435e-02  6.77532548e-02 -3.01716444e-01\n  -1.22263636e-02  2.15382941e-01  1.26537049e-01  2.24429271e-02\n   1.34745230e-01  3.23138170e-02  1.47580798e-01  5.67770933e-02\n   2.91490606e-01 -3.25700173e-02]]\nb_hard =  [-0.]\nw_soft =  [[-1.21665426e-01  3.62093715e-04 -8.14547914e-02 -1.30461544e-01\n   1.03679744e-01 -1.52182440e-01  1.04733167e-01  2.37085565e-02\n   1.88904300e-01  4.14259231e-01 -5.74918926e-02  2.53091455e-02\n  -9.57967331e-02  2.78213946e-01  1.26402871e-02  4.24952941e-02\n  -1.08058239e-01 -3.17898534e-02  3.32288614e-03  1.71401564e-01\n  -6.93185355e-02 -2.85727264e-01 -1.11431511e-01 -2.81551300e-02\n   7.14262962e-02  1.98803054e-01 -1.89996218e-01  9.63349060e-02\n   1.20110591e-01 -5.53355480e-02 -4.29452659e-03 -1.10216493e-01\n  -1.57449276e-01  3.64106600e-02 -4.35440021e-02 -1.42084333e-01\n   1.30750877e-01  2.68330435e-02  6.77532548e-02 -3.01716444e-01\n  -1.22263636e-02  2.15382941e-01  1.26537049e-01  2.24429271e-02\n   1.34745230e-01  3.23138170e-02  1.47580798e-01  5.67770933e-02\n   2.91490606e-01 -3.25700173e-02]]\nb_soft =  [-0.]\n|w_hard|_2 - |w_soft|_2 =  0.0\n"
     ]
    }
   ],
   "source": [
    "print('w_hard = ',svc_regr_hard.coef_)\n",
    "print('b_hard = ',svc_regr_hard.intercept_)\n",
    "print('w_soft = ',svc_regr_soft.coef_)\n",
    "print('b_soft = ',svc_regr_soft.intercept_)\n",
    "\n",
    "print('|w_hard|_2 - |w_soft|_2 = ', (np.linalg.norm(svc_regr_hard.coef_) - np.linalg.norm(svc_regr_soft.coef_)))"
   ]
  },
  {
   "cell_type": "code",
   "execution_count": 26,
   "metadata": {},
   "outputs": [
    {
     "output_type": "stream",
     "name": "stdout",
     "text": [
      "x:  (2000, 50)\n",
      "w:  (1, 50)\n",
      "y:  (2000,)\n",
      "A:  (1, 2000)\n",
      "#A <= 1:  2000\n"
     ]
    }
   ],
   "source": [
    "# 3.2\n",
    "x = DATA[\"A\"][\"train\"][\"X\"]\n",
    "y = DATA[\"A\"][\"train\"][\"Y\"]\n",
    "w = svc_regr_soft.coef_\n",
    "# np.dot(x, w)\n",
    "print(\"x: \",np.shape(x))\n",
    "print(\"w: \",np.shape(w))\n",
    "print(\"y: \",np.shape(y))\n",
    "y[y==0] = -1\n",
    "\n",
    "A = y * np.dot(w, np.transpose(x)) \n",
    "\n",
    "print(\"A: \",np.shape(A))\n",
    "print(\"#A <= 1: \",np.sum(A <= 1))"
   ]
  },
  {
   "cell_type": "code",
   "execution_count": 27,
   "metadata": {},
   "outputs": [
    {
     "output_type": "stream",
     "name": "stdout",
     "text": [
      "w_soft =  [[-1.21665426e-01  3.62093715e-04 -8.14547914e-02 -1.30461544e-01\n   1.03679744e-01 -1.52182440e-01  1.04733167e-01  2.37085565e-02\n   1.88904300e-01  4.14259231e-01 -5.74918926e-02  2.53091455e-02\n  -9.57967331e-02  2.78213946e-01  1.26402871e-02  4.24952941e-02\n  -1.08058239e-01 -3.17898534e-02  3.32288614e-03  1.71401564e-01\n  -6.93185355e-02 -2.85727264e-01 -1.11431511e-01 -2.81551300e-02\n   7.14262962e-02  1.98803054e-01 -1.89996218e-01  9.63349060e-02\n   1.20110591e-01 -5.53355480e-02 -4.29452659e-03 -1.10216493e-01\n  -1.57449276e-01  3.64106600e-02 -4.35440021e-02 -1.42084333e-01\n   1.30750877e-01  2.68330435e-02  6.77532548e-02 -3.01716444e-01\n  -1.22263636e-02  2.15382941e-01  1.26537049e-01  2.24429271e-02\n   1.34745230e-01  3.23138170e-02  1.47580798e-01  5.67770933e-02\n   2.91490606e-01 -3.25700173e-02]]\nb_soft =  [-0.]\nSupport Vector: [[-23.3061044   -9.71882945   9.34264516 -20.5378218  -22.61745076\n    0.02889478  -1.94438239 -16.76330649  -9.43733536   3.33701093\n   -2.58531872 -24.78561978  18.36212309  19.90592558  -3.8111526\n   -3.2063545    9.2496695   17.79626523  16.48625912 -15.4272087\n    5.71399884   7.4487629    7.27841757  -5.6443613   15.10283527\n   11.38375049  -4.3943539   11.64219184 -16.6523856  -12.96526166\n    2.42225696 -23.25482721  17.76306384  18.11354686  25.20209425\n   -8.9744753  -20.56208618   0.56792822  -3.2520854   16.08640176\n   17.78726158   1.78486979   8.73822818   2.91542174  -2.06436836\n  -11.22137302 -14.53169281 -14.28012612  26.60954328  16.71357943]\n [-23.54943526  -9.71810526   9.17973558 -20.79874489 -22.41009127\n   -0.2754701   -1.73491606 -16.71588938  -9.05952676   4.1655294\n   -2.70030251 -24.73500149  18.17052963  20.46235347  -3.78587202\n   -3.12136391   9.03355302  17.73268552  16.49290489 -15.08440557\n    5.57536177   6.87730838   7.05555455  -5.70067156  15.24568786\n   11.7813566   -4.77434633  11.83486165 -16.41216442 -13.07593275\n    2.41366791 -23.4752602   17.44816529  18.18636818  25.11500624\n   -9.25864397 -20.30058443   0.62159431  -3.11657889  15.48296887\n   17.76280885   2.21563567   8.99130228   2.96030759  -1.7948779\n  -11.15674538 -14.23653121 -14.16657193  27.19252449  16.64843939]]\nSupport Vector Index: [1999 1998]\nSV size: (2, 50)\nAlpha: [[-0.5  0.5]]\n"
     ]
    }
   ],
   "source": [
    "print('w_soft = ',svc_regr_soft.coef_)\n",
    "print('b_soft = ',svc_regr_soft.intercept_)\n",
    "print(\"Support Vector:\", svc_regr_soft.support_vectors_)\n",
    "print(\"Support Vector Index:\", svc_regr_soft.support_)\n",
    "print(\"SV size:\", np.shape(svc_regr_soft.support_vectors_))\n",
    "print(\"Alpha:\", svc_regr_soft.dual_coef_)"
   ]
  },
  {
   "cell_type": "code",
   "execution_count": 28,
   "metadata": {},
   "outputs": [
    {
     "output_type": "execute_result",
     "data": {
      "text/plain": [
       "SVC(kernel='linear')"
      ]
     },
     "metadata": {},
     "execution_count": 28
    }
   ],
   "source": [
    "# dataset B\n",
    "# SVC-Soft\n",
    "svc_regr_soft = SVC(\n",
    "    C=1.0, # regularization\n",
    "    kernel='linear'\n",
    ")\n",
    "svc_regr_soft.fit(DATA[\"B\"][\"train\"][\"X\"], DATA[\"B\"][\"train\"][\"Y\"])"
   ]
  },
  {
   "cell_type": "code",
   "execution_count": 29,
   "metadata": {},
   "outputs": [
    {
     "output_type": "stream",
     "name": "stdout",
     "text": [
      "SVC-HARD: INFINITY LOOP, UNSEPARABLE\n"
     ]
    }
   ],
   "source": [
    "# SVC-Hard\n",
    "# svc_regr_hard = SVC(\n",
    "#     C=float('inf'), # regularization\n",
    "#     kernel='linear'\n",
    "# )\n",
    "# svc_regr_hard.fit(DATA[\"B\"][\"train\"][\"X\"], DATA[\"B\"][\"train\"][\"Y\"])\n",
    "print(\"SVC-HARD: INFINITY LOOP, UNSEPARABLE\")"
   ]
  },
  {
   "cell_type": "code",
   "execution_count": 30,
   "metadata": {},
   "outputs": [
    {
     "output_type": "stream",
     "name": "stdout",
     "text": [
      "Optimization terminated successfully.\n         Current function value: 0.030979\n         Iterations 14\n"
     ]
    }
   ],
   "source": [
    "# SM-Soft\n",
    "sm_logit = sm.Logit(DATA[\"B\"][\"train\"][\"Y\"],DATA[\"B\"][\"train\"][\"X\"])\n",
    "model = sm_logit.fit()\n"
   ]
  },
  {
   "cell_type": "code",
   "execution_count": 31,
   "metadata": {},
   "outputs": [
    {
     "output_type": "stream",
     "name": "stdout",
     "text": [
      "w_hard =  [[-1.21665426e-01  3.62093715e-04 -8.14547914e-02 -1.30461544e-01\n   1.03679744e-01 -1.52182440e-01  1.04733167e-01  2.37085565e-02\n   1.88904300e-01  4.14259231e-01 -5.74918926e-02  2.53091455e-02\n  -9.57967331e-02  2.78213946e-01  1.26402871e-02  4.24952941e-02\n  -1.08058239e-01 -3.17898534e-02  3.32288614e-03  1.71401564e-01\n  -6.93185355e-02 -2.85727264e-01 -1.11431511e-01 -2.81551300e-02\n   7.14262962e-02  1.98803054e-01 -1.89996218e-01  9.63349060e-02\n   1.20110591e-01 -5.53355480e-02 -4.29452659e-03 -1.10216493e-01\n  -1.57449276e-01  3.64106600e-02 -4.35440021e-02 -1.42084333e-01\n   1.30750877e-01  2.68330435e-02  6.77532548e-02 -3.01716444e-01\n  -1.22263636e-02  2.15382941e-01  1.26537049e-01  2.24429271e-02\n   1.34745230e-01  3.23138170e-02  1.47580798e-01  5.67770933e-02\n   2.91490606e-01 -3.25700173e-02]]\nb_hard =  [-0.]\nw_soft =  [[-0.14883452 -1.33157854 -2.62109121 -0.14008824 -0.01591273 -2.36571773\n  -0.11301085 -0.33174302  1.25422302  0.12226576  0.71048243 -1.99753926\n   0.59084758  1.56039593  0.2022904  -0.16566907  0.96702447  1.19357528\n   1.66424776 -1.98261002  0.46273767  3.02203225 -0.45076031 -1.15875928\n  -0.57344131 -1.52304994  1.23503273 -0.66182995 -0.0203479   2.09304347\n   2.14280852 -0.46211822  2.15805064  0.61019298  0.01783408 -0.33238668\n  -1.60256375  0.25252616  0.08694866  0.36201239 -0.38220834  1.01984528\n  -0.58570554  0.41533726 -0.73605655 -1.77306584  0.77725884 -0.6126139\n  -1.89797582 -0.12823335]]\nb_soft =  [-0.05146275]\n|w_hard|_2 - |w_soft|_2 =  -7.659534185945252\nx:  (2000, 50)\nw:  (1, 50)\ny:  (2000,)\nA:  (1, 2000)\n#A <= 1:  161\nw_soft =  [[-0.14883452 -1.33157854 -2.62109121 -0.14008824 -0.01591273 -2.36571773\n  -0.11301085 -0.33174302  1.25422302  0.12226576  0.71048243 -1.99753926\n   0.59084758  1.56039593  0.2022904  -0.16566907  0.96702447  1.19357528\n   1.66424776 -1.98261002  0.46273767  3.02203225 -0.45076031 -1.15875928\n  -0.57344131 -1.52304994  1.23503273 -0.66182995 -0.0203479   2.09304347\n   2.14280852 -0.46211822  2.15805064  0.61019298  0.01783408 -0.33238668\n  -1.60256375  0.25252616  0.08694866  0.36201239 -0.38220834  1.01984528\n  -0.58570554  0.41533726 -0.73605655 -1.77306584  0.77725884 -0.6126139\n  -1.89797582 -0.12823335]]\nb_soft =  [-0.05146275]\nSupport Vector: [[ 2.46332952 -0.77978006 -0.27155939 ...  0.13239303 -1.96125867\n   1.38804837]\n [-1.42552454 -2.16288447 -0.88451354 ... -0.41396881 -0.74861742\n  -0.11140769]\n [-0.13560691 -0.2559248   0.69591211 ... -0.72321138 -0.07651619\n  -0.77946941]\n ...\n [-0.55038792  1.6337104   0.84330336 ... -0.26088387 -0.93452198\n   1.06213669]\n [-0.19594668 -0.74682712  0.79477568 ... -0.04955724  0.05319692\n   0.1507748 ]\n [-1.18788362  0.98410019  0.95051311 ... -0.61773492  0.64569337\n  -1.12892607]]\nSV size: (192, 50)\nAlpha: [[-0.18154043 -1.         -1.         -1.         -1.         -1.\n  -1.         -0.46579615 -0.65113809 -1.         -1.         -1.\n  -1.         -1.         -0.28149788 -1.         -1.         -1.\n  -0.13851952 -1.         -1.         -1.         -0.6550175  -0.90999031\n  -0.8893523  -0.41517747 -1.         -1.         -1.         -0.12184268\n  -0.5046161  -1.         -0.72350645 -1.         -1.         -1.\n  -1.         -1.         -0.84901527 -1.         -0.19431178 -1.\n  -1.         -1.         -1.         -1.         -0.27641444 -1.\n  -1.         -1.         -1.         -1.         -1.         -1.\n  -1.         -1.         -1.         -1.         -1.         -1.\n  -0.28400342 -1.         -1.         -0.7332253  -1.         -1.\n  -1.         -0.79840101 -1.         -1.         -1.         -1.\n  -1.         -1.         -1.         -1.         -0.76305116 -1.\n  -1.         -1.         -1.         -1.         -1.         -1.\n  -1.         -1.         -1.         -1.         -1.         -0.63660558\n  -1.         -1.          0.65196242  0.42485213  0.35353782  1.\n   0.94539376  1.          0.3388051   1.          1.          1.\n   0.43223143  1.          1.          1.          0.90793149  1.\n   1.          1.          0.04970768  1.          1.          1.\n   1.          0.97289561  1.          1.          0.9196539   1.\n   1.          0.93216669  1.          1.          0.51862456  0.7570981\n   0.06533931  0.11250122  1.          0.65794784  1.          0.49810779\n   1.          1.          1.          0.37562404  1.          0.03267648\n   1.          1.          1.          1.          1.          0.65694822\n   0.51235981  1.          1.          1.          1.          1.\n   1.          1.          1.          1.          1.          1.\n   0.29611049  0.08661775  1.          1.          0.20712176  0.08321326\n   0.74696912  0.20421004  1.          1.          1.          1.\n   1.          1.          1.          1.          0.8872863   0.49311911\n   1.          1.          1.          1.          1.          0.33433675\n   1.          1.          0.76428281  0.0078512   1.          0.42621879\n   1.          1.          1.          0.81932003  1.          1.        ]]\n"
     ]
    }
   ],
   "source": [
    "print('w_hard = ',svc_regr_hard.coef_)\n",
    "print('b_hard = ',svc_regr_hard.intercept_)\n",
    "print('w_soft = ',svc_regr_soft.coef_)\n",
    "print('b_soft = ',svc_regr_soft.intercept_)\n",
    "print('|w_hard|_2 - |w_soft|_2 = ', (np.linalg.norm(svc_regr_hard.coef_) - np.linalg.norm(svc_regr_soft.coef_)))\n",
    "# 3.2\n",
    "x = DATA[\"B\"][\"train\"][\"X\"]\n",
    "y = DATA[\"B\"][\"train\"][\"Y\"]\n",
    "w = svc_regr_soft.coef_\n",
    "# np.dot(x, w)\n",
    "print(\"x: \",np.shape(x))\n",
    "print(\"w: \",np.shape(w))\n",
    "print(\"y: \",np.shape(y))\n",
    "y[y==0] = -1\n",
    "A = y * np.dot(w, np.transpose(x)) \n",
    "print(\"A: \",np.shape(A))\n",
    "print(\"#A <= 1: \",np.sum(A <= 1))\n",
    "print('w_soft = ',svc_regr_soft.coef_)\n",
    "print('b_soft = ',svc_regr_soft.intercept_)\n",
    "print(\"Support Vector:\", svc_regr_soft.support_vectors_)\n",
    "print(\"SV size:\", np.shape(svc_regr_soft.support_vectors_))\n",
    "print(\"Alpha:\", svc_regr_soft.dual_coef_)"
   ]
  },
  {
   "cell_type": "code",
   "execution_count": 32,
   "metadata": {},
   "outputs": [
    {
     "output_type": "stream",
     "name": "stdout",
     "text": [
      "Soft-SVM Test Performance (Empirical Accuracy): 97.15%\n"
     ]
    }
   ],
   "source": [
    "result_right = sum(DATA[\"B\"][\"test\"][\"Y\"] == svc_regr_soft.predict(DATA[\"B\"][\"test\"][\"X\"]))\n",
    "empirical_accuracy = (result_right)/len(DATA[\"B\"][\"test\"][\"Y\"])\n",
    "print(\"Soft-SVM Test Performance (Empirical Accuracy): {}%\".format(empirical_accuracy*100))"
   ]
  },
  {
   "cell_type": "code",
   "execution_count": 33,
   "metadata": {},
   "outputs": [
    {
     "output_type": "stream",
     "name": "stdout",
     "text": [
      "Logit Test Performance (Empirical Accuracy): 96.95%\n"
     ]
    }
   ],
   "source": [
    "result_right = sum(DATA[\"B\"][\"test\"][\"Y\"] == np.round(model.predict(DATA[\"B\"][\"test\"][\"X\"])))\n",
    "empirical_accuracy = (result_right)/len(DATA[\"B\"][\"test\"][\"Y\"])\n",
    "print(\"Logit Test Performance (Empirical Accuracy): {}%\".format(empirical_accuracy*100))"
   ]
  }
 ]
}