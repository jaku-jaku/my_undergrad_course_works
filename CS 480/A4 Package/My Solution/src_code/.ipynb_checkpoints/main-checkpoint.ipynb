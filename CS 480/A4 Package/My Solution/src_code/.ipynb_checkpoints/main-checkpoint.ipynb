{
 "cells": [
  {
   "cell_type": "code",
   "execution_count": 1,
   "metadata": {},
   "outputs": [],
   "source": [
    "import a4_lib\n",
    "import a4_ex1_solution"
   ]
  },
  {
   "cell_type": "code",
   "execution_count": 2,
   "metadata": {},
   "outputs": [],
   "source": [
    "NUM_EPOCH       = 5\n",
    "LEARNING_RATE   = 0.001\n",
    "BATCH_SIZE      = 100\n",
    "MAX_SAMPLES     = None # Default: None => all data\n",
    "VERBOSE_LEVEL   = a4_lib.VerboseLevel.HIGH"
   ]
  },
  {
   "cell_type": "code",
   "execution_count": 3,
   "metadata": {},
   "outputs": [
    {
     "name": "stdout",
     "output_type": "stream",
     "text": [
      "[ALERT] Attempt to use GPU => CUDA:0\n",
      "=== Loading Data ... \n",
      "> Resized to (32, 32)\n",
      "> Augmentation: []\n",
      "=== Data Loaded [Testing] ===\n",
      "=== Loading Data ... \n",
      "> Resized to (32, 32)\n",
      "=== Data Loaded [Training] ===\n",
      "> epoch 1/5:\n",
      "  >> Learning (wip)\n",
      "  >> Testing (wip)\n",
      "    epoch 1 > Training: [LOSS: 0.4741 | ACC: 0.8303] | Testing: [LOSS: 0.0843 | ACC: 0.9803] Ellapsed: 16.76 s | rate:1.69824\n",
      "> epoch 2/5:\n",
      "  >> Learning (wip)\n",
      "  >> Testing (wip)\n",
      "    epoch 2 > Training: [LOSS: 0.0854 | ACC: 0.9791] | Testing: [LOSS: 0.0481 | ACC: 0.9887] Ellapsed: 16.83 s | rate:1.60827\n",
      "> epoch 3/5:\n",
      "  >> Learning (wip)\n",
      "  >> Testing (wip)\n",
      "    epoch 3 > Training: [LOSS: 0.0671 | ACC: 0.9847] | Testing: [LOSS: 0.0706 | ACC: 0.9848] Ellapsed: 16.87 s | rate:1.59147\n",
      "> epoch 4/5:\n",
      "  >> Learning (wip)\n",
      "  >> Testing (wip)\n",
      "    epoch 4 > Training: [LOSS: 0.0686 | ACC: 0.9859] | Testing: [LOSS: 0.0733 | ACC: 0.9845] Ellapsed: 16.80 s | rate:1.58194\n",
      "> epoch 5/5:\n",
      "  >> Learning (wip)\n",
      "  >> Testing (wip)\n",
      "    epoch 5 > Training: [LOSS: 0.0526 | ACC: 0.9886] | Testing: [LOSS: 0.0695 | ACC: 0.9876] Ellapsed: 16.90 s | rate:1.56615\n"
     ]
    },
    {
     "ename": "TypeError",
     "evalue": "not all arguments converted during string formatting",
     "output_type": "error",
     "traceback": [
      "\u001b[0;31m---------------------------------------------------------------------------\u001b[0m",
      "\u001b[0;31mTypeError\u001b[0m                                 Traceback (most recent call last)",
      "\u001b[0;32m<ipython-input-3-f51cc1f50f47>\u001b[0m in \u001b[0;36m<module>\u001b[0;34m\u001b[0m\n\u001b[1;32m      1\u001b[0m \u001b[0;31m# Raw Trial:\u001b[0m\u001b[0;34m\u001b[0m\u001b[0;34m\u001b[0m\u001b[0;34m\u001b[0m\u001b[0m\n\u001b[0;32m----> 2\u001b[0;31m a4_ex1_solution.solve_a4_ex1(\n\u001b[0m\u001b[1;32m      3\u001b[0m     \u001b[0;31m# USER DEFINE: ----- ----- ----- ----- ----- ----- ----- ----- ----- #\u001b[0m\u001b[0;34m\u001b[0m\u001b[0;34m\u001b[0m\u001b[0;34m\u001b[0m\u001b[0m\n\u001b[1;32m      4\u001b[0m     \u001b[0mTOTA_NUM_EPOCHS\u001b[0m \u001b[0;34m=\u001b[0m \u001b[0mNUM_EPOCH\u001b[0m\u001b[0;34m,\u001b[0m\u001b[0;34m\u001b[0m\u001b[0;34m\u001b[0m\u001b[0m\n\u001b[1;32m      5\u001b[0m     \u001b[0mLEARNING_RATE\u001b[0m   \u001b[0;34m=\u001b[0m \u001b[0mLEARNING_RATE\u001b[0m\u001b[0;34m,\u001b[0m\u001b[0;34m\u001b[0m\u001b[0;34m\u001b[0m\u001b[0m\n",
      "\u001b[0;32m/mnt/campus/math/cluster/teaching/slurm-pt1/work_root/h222zhou/UW__4B_Individual_Works/CS 480/A4 Package/My Solution/src_code/a4_ex1_solution.py\u001b[0m in \u001b[0;36msolve_a4_ex1\u001b[0;34m(TOTA_NUM_EPOCHS, LEARNING_RATE, BATCH_SIZE, MAX_SAMPLES, OUT_DIR_E1, IMG_SIZE, VERBOSE_LEVEL, TRAINING_AUG)\u001b[0m\n\u001b[1;32m    106\u001b[0m \u001b[0;34m\u001b[0m\u001b[0m\n\u001b[1;32m    107\u001b[0m     \u001b[0;31m# output state:\u001b[0m\u001b[0;34m\u001b[0m\u001b[0;34m\u001b[0m\u001b[0;34m\u001b[0m\u001b[0m\n\u001b[0;32m--> 108\u001b[0;31m     \u001b[0mt\u001b[0m\u001b[0;34m.\u001b[0m\u001b[0msave\u001b[0m\u001b[0;34m(\u001b[0m\u001b[0mMODEL_DICT\u001b[0m\u001b[0;34m[\u001b[0m\u001b[0;34m\"VGG11\"\u001b[0m\u001b[0;34m]\u001b[0m\u001b[0;34m.\u001b[0m\u001b[0mstate_dict\u001b[0m\u001b[0;34m(\u001b[0m\u001b[0;34m)\u001b[0m\u001b[0;34m,\u001b[0m \u001b[0;34m\"%s/last_{}.pth\"\u001b[0m\u001b[0;34m%\u001b[0m\u001b[0;34m(\u001b[0m\u001b[0mOUT_DIR_E1\u001b[0m\u001b[0;34m,\u001b[0m \u001b[0;34m\"_\"\u001b[0m\u001b[0;34m.\u001b[0m\u001b[0mjoin\u001b[0m\u001b[0;34m(\u001b[0m\u001b[0mTRAINING_AUG\u001b[0m\u001b[0;34m)\u001b[0m\u001b[0;34m)\u001b[0m\u001b[0;34m)\u001b[0m\u001b[0;34m\u001b[0m\u001b[0;34m\u001b[0m\u001b[0m\n\u001b[0m\u001b[1;32m    109\u001b[0m \u001b[0;34m\u001b[0m\u001b[0m\n\u001b[1;32m    110\u001b[0m     \u001b[0;31m# EVALUATE: --- ----- ----- ----- ----- ----- ----- ----- ----- ----- #\u001b[0m\u001b[0;34m\u001b[0m\u001b[0;34m\u001b[0m\u001b[0;34m\u001b[0m\u001b[0m\n",
      "\u001b[0;31mTypeError\u001b[0m: not all arguments converted during string formatting"
     ]
    }
   ],
   "source": [
    "# Raw Trial:\n",
    "a4_ex1_solution.solve_a4_ex1(\n",
    "    # USER DEFINE: ----- ----- ----- ----- ----- ----- ----- ----- ----- #\n",
    "    TOTA_NUM_EPOCHS = NUM_EPOCH,\n",
    "    LEARNING_RATE   = LEARNING_RATE,\n",
    "    BATCH_SIZE      = BATCH_SIZE,\n",
    "    MAX_SAMPLES     = MAX_SAMPLES, # Default: None => all data\n",
    "    # const:\n",
    "    OUT_DIR_E1      = \"output/E1\",\n",
    "    IMG_SIZE        = (32, 32),\n",
    "    VERBOSE_LEVEL   = a4_lib.VerboseLevel.HIGH,\n",
    "    TRAINING_AUG    = [], # Options: [\"HFlip\", \"VFlip\", \"GAUSS-0.01\"],\n",
    ")"
   ]
  },
  {
   "cell_type": "code",
   "execution_count": null,
   "metadata": {},
   "outputs": [],
   "source": [
    "# Augmented Trial\n",
    "a4_ex1_solution.solve_a4_ex1(\n",
    "    # USER DEFINE: ----- ----- ----- ----- ----- ----- ----- ----- ----- #\n",
    "    TOTA_NUM_EPOCHS = NUM_EPOCH,\n",
    "    LEARNING_RATE   = LEARNING_RATE,\n",
    "    BATCH_SIZE      = BATCH_SIZE,\n",
    "    MAX_SAMPLES     = MAX_SAMPLES, # Default: None => all data\n",
    "    # const:\n",
    "    OUT_DIR_E1      = \"output/E1\",\n",
    "    IMG_SIZE        = (32, 32),\n",
    "    VERBOSE_LEVEL   = a4_lib.VerboseLevel.HIGH,\n",
    "    TRAINING_AUG    = [\"HFlip\", \"VFlip\", \"GAUSS-1\"],\n",
    ")"
   ]
  },
  {
   "cell_type": "code",
   "execution_count": null,
   "metadata": {},
   "outputs": [],
   "source": []
  }
 ],
 "metadata": {
  "kernelspec": {
   "display_name": "Python 3",
   "language": "python",
   "name": "python3"
  },
  "language_info": {
   "codemirror_mode": {
    "name": "ipython",
    "version": 3
   },
   "file_extension": ".py",
   "mimetype": "text/x-python",
   "name": "python",
   "nbconvert_exporter": "python",
   "pygments_lexer": "ipython3",
   "version": "3.8.6"
  }
 },
 "nbformat": 4,
 "nbformat_minor": 4
}
