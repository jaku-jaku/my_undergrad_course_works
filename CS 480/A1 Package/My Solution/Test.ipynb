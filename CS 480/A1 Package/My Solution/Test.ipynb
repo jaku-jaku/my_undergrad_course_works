{
 "metadata": {
  "language_info": {
   "codemirror_mode": {
    "name": "ipython",
    "version": 3
   },
   "file_extension": ".py",
   "mimetype": "text/x-python",
   "name": "python",
   "nbconvert_exporter": "python",
   "pygments_lexer": "ipython3",
   "version": "3.8.3-final"
  },
  "orig_nbformat": 2,
  "kernelspec": {
   "name": "python3",
   "display_name": "Python 3",
   "language": "python"
  }
 },
 "nbformat": 4,
 "nbformat_minor": 2,
 "cells": [
  {
   "cell_type": "code",
   "execution_count": 1,
   "metadata": {},
   "outputs": [],
   "source": [
    "import numpy as np\n",
    "import matplotlib.pyplot as plt\n",
    "from typing import List"
   ]
  },
  {
   "cell_type": "code",
   "execution_count": 105,
   "metadata": {},
   "outputs": [
    {
     "output_type": "stream",
     "name": "stdout",
     "text": [
      "0\n"
     ]
    }
   ],
   "source": [
    "A = [\n",
    "    # [1/np.sqrt(2), 1/np.sqrt(2)],\n",
    "    # [1/2, -np.sqrt(3)/2],\n",
    "    # [0, np.sqrt(3)/2 - 1/np.sqrt(2)],\n",
    "    # [1/np.sqrt(2), 1/np.sqrt(2)],\n",
    "    # [1/2, -np.sqrt(3)/2],\n",
    "    # [0, np.sqrt(3)/2 - 1/np.sqrt(2)],\n",
    "    # [1/np.sqrt(2), 1/np.sqrt(2)],\n",
    "    # [1/2, -np.sqrt(3)/2],\n",
    "    # [0, np.sqrt(3)/2 - 1/np.sqrt(2)],\n",
    "]\n",
    "print(0)\n",
    "for k in range(1, len(A)):\n",
    "    A_part = A[0:k]\n",
    "    res_i = np.dot(A[k], np.sum(A_part,0))\n",
    "    print(res_i)"
   ]
  },
  {
   "cell_type": "code",
   "execution_count": 106,
   "metadata": {},
   "outputs": [
    {
     "output_type": "execute_result",
     "data": {
      "text/plain": [
       "[]"
      ]
     },
     "metadata": {},
     "execution_count": 106
    }
   ],
   "source": [
    "A[0:2]"
   ]
  },
  {
   "cell_type": "code",
   "execution_count": null,
   "metadata": {},
   "outputs": [],
   "source": []
  },
  {
   "cell_type": "code",
   "execution_count": null,
   "metadata": {},
   "outputs": [],
   "source": []
  },
  {
   "source": [
    "X = [[1/np.sqrt(2), 1/np.sqrt(2)]]\n",
    "Y = [1]\n",
    "for i in range(0, 100):\n",
    "    if i % 2:\n",
    "        X.append([-1/np.sqrt(2), 1/np.sqrt(2)])\n",
    "    else:\n",
    "        X.append([1/np.sqrt(2), -1/np.sqrt(2)])\n",
    "    Y.append(1)"
   ],
   "cell_type": "code",
   "metadata": {},
   "execution_count": 107,
   "outputs": []
  },
  {
   "cell_type": "code",
   "execution_count": 108,
   "metadata": {},
   "outputs": [
    {
     "output_type": "error",
     "ename": "NameError",
     "evalue": "name 'perceptron2' is not defined",
     "traceback": [
      "\u001b[0;31m---------------------------------------------------------------------------\u001b[0m",
      "\u001b[0;31mNameError\u001b[0m                                 Traceback (most recent call last)",
      "\u001b[0;32m<ipython-input-108-e95392351a8c>\u001b[0m in \u001b[0;36m<module>\u001b[0;34m\u001b[0m\n\u001b[0;32m----> 1\u001b[0;31m \u001b[0mw\u001b[0m\u001b[0;34m,\u001b[0m \u001b[0mb\u001b[0m\u001b[0;34m,\u001b[0m \u001b[0mmistake\u001b[0m \u001b[0;34m=\u001b[0m \u001b[0mperceptron2\u001b[0m\u001b[0;34m(\u001b[0m\u001b[0mX\u001b[0m\u001b[0;34m=\u001b[0m\u001b[0mX\u001b[0m\u001b[0;34m,\u001b[0m \u001b[0my\u001b[0m\u001b[0;34m=\u001b[0m\u001b[0mY\u001b[0m\u001b[0;34m)\u001b[0m\u001b[0;34m\u001b[0m\u001b[0;34m\u001b[0m\u001b[0m\n\u001b[0m\u001b[1;32m      2\u001b[0m \u001b[0mfig1\u001b[0m\u001b[0;34m,\u001b[0m \u001b[0max1\u001b[0m \u001b[0;34m=\u001b[0m \u001b[0mplt\u001b[0m\u001b[0;34m.\u001b[0m\u001b[0msubplots\u001b[0m\u001b[0;34m(\u001b[0m\u001b[0;34m)\u001b[0m\u001b[0;34m\u001b[0m\u001b[0;34m\u001b[0m\u001b[0m\n\u001b[1;32m      3\u001b[0m \u001b[0max1\u001b[0m\u001b[0;34m.\u001b[0m\u001b[0mplot\u001b[0m\u001b[0;34m(\u001b[0m\u001b[0;34m(\u001b[0m\u001b[0mmistake\u001b[0m\u001b[0;34m)\u001b[0m\u001b[0;34m)\u001b[0m\u001b[0;34m\u001b[0m\u001b[0;34m\u001b[0m\u001b[0m\n\u001b[1;32m      4\u001b[0m \u001b[0max1\u001b[0m\u001b[0;34m.\u001b[0m\u001b[0mset_title\u001b[0m\u001b[0;34m(\u001b[0m\u001b[0;34m\"Mistakes vs. Passes\"\u001b[0m\u001b[0;34m)\u001b[0m\u001b[0;34m\u001b[0m\u001b[0;34m\u001b[0m\u001b[0m\n\u001b[1;32m      5\u001b[0m \u001b[0max1\u001b[0m\u001b[0;34m.\u001b[0m\u001b[0mset_xlabel\u001b[0m\u001b[0;34m(\u001b[0m\u001b[0;34m\"number of passes\"\u001b[0m\u001b[0;34m)\u001b[0m\u001b[0;34m\u001b[0m\u001b[0;34m\u001b[0m\u001b[0m\n",
      "\u001b[0;31mNameError\u001b[0m: name 'perceptron2' is not defined"
     ]
    }
   ],
   "source": [
    "w, b, mistake = perceptron2(X=X, y=Y)\n",
    "fig1, ax1 = plt.subplots()\n",
    "ax1.plot((mistake))\n",
    "ax1.set_title(\"Mistakes vs. Passes\")\n",
    "ax1.set_xlabel(\"number of passes\")\n",
    "ax1.set_ylabel(\"number of mistakes\")"
   ]
  },
  {
   "cell_type": "code",
   "execution_count": 27,
   "metadata": {},
   "outputs": [],
   "source": [
    "def perceptron_anim_2d(\n",
    "    X: List[List[float]], \n",
    "    y: List[int], \n",
    "    max_pass=0,\n",
    "    plot=False\n",
    ")-> [List[float], float, List[int]]:\n",
    "    \"\"\"\n",
    "    @param          X: \\in R^{nxd}\n",
    "    @param          y: \\in {-1,1}^n \n",
    "    @param   max_pass: \\in N\n",
    "    \"\"\"\n",
    "    X = np.array(X)\n",
    "    y = np.array(y)\n",
    "    [n, d] = np.shape(X)\n",
    "    w = [0] * d # w = 0_d\n",
    "    b = 0\n",
    "    mistake = []\n",
    "    # plot\n",
    "    if plot:\n",
    "        x_min, x_max = X[:, 0].min() - 1, X[:, 0].max() + 1\n",
    "        y_min, y_max = X[:, 1].min() - 1, X[:, 1].max() + 1\n",
    "        px = np.transpose(X)\n",
    "        fig2, ax2 = plt.subplots()\n",
    "        ax2.set_aspect(1)\n",
    "        xx = [0, 0]\n",
    "        yy = [y_max, y_min]\n",
    "        ax2.scatter(px[0], px[1], c=y)\n",
    "        ax2.grid()\n",
    "        ax2.plot(xx,yy,\"blue\")\n",
    "        ax2.axis([x_min, x_max, y_min, y_max])\n",
    "        xx = np.linspace(x_min, x_max)\n",
    "\n",
    "    for t in range(0, max_pass): # max passes / iterations\n",
    "        mistake.append(0)\n",
    "        for i in range(0, n):\n",
    "            x_i = X[i, :]\n",
    "            if (y[i] * (np.dot(x_i, w) + b)) <= 0:\n",
    "                w = w + y[i] * x_i\n",
    "                b = b + y[i]\n",
    "                mistake[t] += 1\n",
    "\n",
    "        # plot \n",
    "        if w[1] is not 0 and plot and t==(max_pass):\n",
    "            a = - w[0] / w[1]\n",
    "            yy = a * xx - (b) / w[1] \n",
    "            ax2.scatter(px[0], px[1], c=y)\n",
    "            ax2.plot(xx,yy)\n",
    "            ax2.axis([x_min, x_max, y_min, y_max])\n",
    "\n",
    "    return w, b, mistake\n",
    "\n"
   ]
  },
  {
   "cell_type": "code",
   "execution_count": 16,
   "metadata": {},
   "outputs": [],
   "source": [
    "# X = np.array([[-1, 0], [-1, 0], [-1, 0], [-1, 0]])\n",
    "# Y = np.array([-1,1, -1, 1])\n",
    "# X = np.array([[2, 2], [-0.5, -0.5],[2, 2], [-0.5, -0.5]])\n",
    "# Y = np.array([1, -1, 1, -1])\n",
    "# X = np.array([[1/np.sqrt(2),1/np.sqrt(2)], [0.5, - np.sqrt(3)/2],[0,np.sqrt(3)/2 - 1/np.sqrt(2)]])\n",
    "# Y = np.array([1,1,1])\n",
    "X = np.array([[1,1],[0,-1]])\n",
    "Y = np.array([1,1])"
   ]
  },
  {
   "cell_type": "code",
   "execution_count": 31,
   "metadata": {},
   "outputs": [
    {
     "output_type": "display_data",
     "data": {
      "text/plain": "<Figure size 432x288 with 1 Axes>",
      "image/svg+xml": "<?xml version=\"1.0\" encoding=\"utf-8\" standalone=\"no\"?>\n<!DOCTYPE svg PUBLIC \"-//W3C//DTD SVG 1.1//EN\"\n  \"http://www.w3.org/Graphics/SVG/1.1/DTD/svg11.dtd\">\n<!-- Created with matplotlib (https://matplotlib.org/) -->\n<svg height=\"252.317344pt\" version=\"1.1\" viewBox=\"0 0 211.944062 252.317344\" width=\"211.944062pt\" xmlns=\"http://www.w3.org/2000/svg\" xmlns:xlink=\"http://www.w3.org/1999/xlink\">\n <defs>\n  <style type=\"text/css\">\n*{stroke-linecap:butt;stroke-linejoin:round;}\n  </style>\n </defs>\n <g id=\"figure_1\">\n  <g id=\"patch_1\">\n   <path d=\"M 0 252.317344 \nL 211.944062 252.317344 \nL 211.944062 0 \nL 0 0 \nz\n\" style=\"fill:none;\"/>\n  </g>\n  <g id=\"axes_1\">\n   <g id=\"patch_2\">\n    <path d=\"M 38.482813 228.439219 \nL 201.562812 228.439219 \nL 201.562812 10.999219 \nL 38.482813 10.999219 \nz\n\" style=\"fill:#ffffff;\"/>\n   </g>\n   <g id=\"PathCollection_1\">\n    <defs>\n     <path d=\"M 0 3 \nC 0.795609 3 1.55874 2.683901 2.12132 2.12132 \nC 2.683901 1.55874 3 0.795609 3 0 \nC 3 -0.795609 2.683901 -1.55874 2.12132 -2.12132 \nC 1.55874 -2.683901 0.795609 -3 0 -3 \nC -0.795609 -3 -1.55874 -2.683901 -2.12132 -2.12132 \nC -2.683901 -1.55874 -3 -0.795609 -3 0 \nC -3 0.795609 -2.683901 1.55874 -2.12132 2.12132 \nC -1.55874 2.683901 -0.795609 3 0 3 \nz\n\" id=\"C0_0_089b5c4ce8\"/>\n    </defs>\n    <g clip-path=\"url(#p1206dde872)\">\n     <use style=\"fill:#440154;stroke:#440154;\" x=\"147.202812\" xlink:href=\"#C0_0_089b5c4ce8\" y=\"65.359219\"/>\n    </g>\n    <g clip-path=\"url(#p1206dde872)\">\n     <use style=\"fill:#440154;stroke:#440154;\" x=\"92.842812\" xlink:href=\"#C0_0_089b5c4ce8\" y=\"174.079219\"/>\n    </g>\n   </g>\n   <g id=\"PathCollection_2\">\n    <defs>\n     <path d=\"M 0 3 \nC 0.795609 3 1.55874 2.683901 2.12132 2.12132 \nC 2.683901 1.55874 3 0.795609 3 0 \nC 3 -0.795609 2.683901 -1.55874 2.12132 -2.12132 \nC 1.55874 -2.683901 0.795609 -3 0 -3 \nC -0.795609 -3 -1.55874 -2.683901 -2.12132 -2.12132 \nC -2.683901 -1.55874 -3 -0.795609 -3 0 \nC -3 0.795609 -2.683901 1.55874 -2.12132 2.12132 \nC -1.55874 2.683901 -0.795609 3 0 3 \nz\n\" id=\"C1_0_8edbb4b190\"/>\n    </defs>\n    <g clip-path=\"url(#p1206dde872)\">\n     <use style=\"fill:#440154;stroke:#440154;\" x=\"147.202812\" xlink:href=\"#C1_0_8edbb4b190\" y=\"65.359219\"/>\n    </g>\n    <g clip-path=\"url(#p1206dde872)\">\n     <use style=\"fill:#440154;stroke:#440154;\" x=\"92.842812\" xlink:href=\"#C1_0_8edbb4b190\" y=\"174.079219\"/>\n    </g>\n   </g>\n   <g id=\"matplotlib.axis_1\">\n    <g id=\"xtick_1\">\n     <g id=\"line2d_1\">\n      <path clip-path=\"url(#p1206dde872)\" d=\"M 38.482813 228.439219 \nL 38.482813 10.999219 \n\" style=\"fill:none;stroke:#b0b0b0;stroke-linecap:square;stroke-width:0.8;\"/>\n     </g>\n     <g id=\"line2d_2\">\n      <defs>\n       <path d=\"M 0 0 \nL 0 3.5 \n\" id=\"m27f1785025\" style=\"stroke:#000000;stroke-width:0.8;\"/>\n      </defs>\n      <g>\n       <use style=\"stroke:#000000;stroke-width:0.8;\" x=\"38.482813\" xlink:href=\"#m27f1785025\" y=\"228.439219\"/>\n      </g>\n     </g>\n     <g id=\"text_1\">\n      <!-- −1 -->\n      <defs>\n       <path d=\"M 10.59375 35.5 \nL 73.1875 35.5 \nL 73.1875 27.203125 \nL 10.59375 27.203125 \nz\n\" id=\"DejaVuSans-8722\"/>\n       <path d=\"M 12.40625 8.296875 \nL 28.515625 8.296875 \nL 28.515625 63.921875 \nL 10.984375 60.40625 \nL 10.984375 69.390625 \nL 28.421875 72.90625 \nL 38.28125 72.90625 \nL 38.28125 8.296875 \nL 54.390625 8.296875 \nL 54.390625 0 \nL 12.40625 0 \nz\n\" id=\"DejaVuSans-49\"/>\n      </defs>\n      <g transform=\"translate(31.111719 243.037656)scale(0.1 -0.1)\">\n       <use xlink:href=\"#DejaVuSans-8722\"/>\n       <use x=\"83.789062\" xlink:href=\"#DejaVuSans-49\"/>\n      </g>\n     </g>\n    </g>\n    <g id=\"xtick_2\">\n     <g id=\"line2d_3\">\n      <path clip-path=\"url(#p1206dde872)\" d=\"M 92.842812 228.439219 \nL 92.842812 10.999219 \n\" style=\"fill:none;stroke:#b0b0b0;stroke-linecap:square;stroke-width:0.8;\"/>\n     </g>\n     <g id=\"line2d_4\">\n      <g>\n       <use style=\"stroke:#000000;stroke-width:0.8;\" x=\"92.842812\" xlink:href=\"#m27f1785025\" y=\"228.439219\"/>\n      </g>\n     </g>\n     <g id=\"text_2\">\n      <!-- 0 -->\n      <defs>\n       <path d=\"M 31.78125 66.40625 \nQ 24.171875 66.40625 20.328125 58.90625 \nQ 16.5 51.421875 16.5 36.375 \nQ 16.5 21.390625 20.328125 13.890625 \nQ 24.171875 6.390625 31.78125 6.390625 \nQ 39.453125 6.390625 43.28125 13.890625 \nQ 47.125 21.390625 47.125 36.375 \nQ 47.125 51.421875 43.28125 58.90625 \nQ 39.453125 66.40625 31.78125 66.40625 \nz\nM 31.78125 74.21875 \nQ 44.046875 74.21875 50.515625 64.515625 \nQ 56.984375 54.828125 56.984375 36.375 \nQ 56.984375 17.96875 50.515625 8.265625 \nQ 44.046875 -1.421875 31.78125 -1.421875 \nQ 19.53125 -1.421875 13.0625 8.265625 \nQ 6.59375 17.96875 6.59375 36.375 \nQ 6.59375 54.828125 13.0625 64.515625 \nQ 19.53125 74.21875 31.78125 74.21875 \nz\n\" id=\"DejaVuSans-48\"/>\n      </defs>\n      <g transform=\"translate(89.661562 243.037656)scale(0.1 -0.1)\">\n       <use xlink:href=\"#DejaVuSans-48\"/>\n      </g>\n     </g>\n    </g>\n    <g id=\"xtick_3\">\n     <g id=\"line2d_5\">\n      <path clip-path=\"url(#p1206dde872)\" d=\"M 147.202812 228.439219 \nL 147.202812 10.999219 \n\" style=\"fill:none;stroke:#b0b0b0;stroke-linecap:square;stroke-width:0.8;\"/>\n     </g>\n     <g id=\"line2d_6\">\n      <g>\n       <use style=\"stroke:#000000;stroke-width:0.8;\" x=\"147.202812\" xlink:href=\"#m27f1785025\" y=\"228.439219\"/>\n      </g>\n     </g>\n     <g id=\"text_3\">\n      <!-- 1 -->\n      <g transform=\"translate(144.021562 243.037656)scale(0.1 -0.1)\">\n       <use xlink:href=\"#DejaVuSans-49\"/>\n      </g>\n     </g>\n    </g>\n    <g id=\"xtick_4\">\n     <g id=\"line2d_7\">\n      <path clip-path=\"url(#p1206dde872)\" d=\"M 201.562812 228.439219 \nL 201.562812 10.999219 \n\" style=\"fill:none;stroke:#b0b0b0;stroke-linecap:square;stroke-width:0.8;\"/>\n     </g>\n     <g id=\"line2d_8\">\n      <g>\n       <use style=\"stroke:#000000;stroke-width:0.8;\" x=\"201.562812\" xlink:href=\"#m27f1785025\" y=\"228.439219\"/>\n      </g>\n     </g>\n     <g id=\"text_4\">\n      <!-- 2 -->\n      <defs>\n       <path d=\"M 19.1875 8.296875 \nL 53.609375 8.296875 \nL 53.609375 0 \nL 7.328125 0 \nL 7.328125 8.296875 \nQ 12.9375 14.109375 22.625 23.890625 \nQ 32.328125 33.6875 34.8125 36.53125 \nQ 39.546875 41.84375 41.421875 45.53125 \nQ 43.3125 49.21875 43.3125 52.78125 \nQ 43.3125 58.59375 39.234375 62.25 \nQ 35.15625 65.921875 28.609375 65.921875 \nQ 23.96875 65.921875 18.8125 64.3125 \nQ 13.671875 62.703125 7.8125 59.421875 \nL 7.8125 69.390625 \nQ 13.765625 71.78125 18.9375 73 \nQ 24.125 74.21875 28.421875 74.21875 \nQ 39.75 74.21875 46.484375 68.546875 \nQ 53.21875 62.890625 53.21875 53.421875 \nQ 53.21875 48.921875 51.53125 44.890625 \nQ 49.859375 40.875 45.40625 35.40625 \nQ 44.1875 33.984375 37.640625 27.21875 \nQ 31.109375 20.453125 19.1875 8.296875 \nz\n\" id=\"DejaVuSans-50\"/>\n      </defs>\n      <g transform=\"translate(198.381562 243.037656)scale(0.1 -0.1)\">\n       <use xlink:href=\"#DejaVuSans-50\"/>\n      </g>\n     </g>\n    </g>\n   </g>\n   <g id=\"matplotlib.axis_2\">\n    <g id=\"ytick_1\">\n     <g id=\"line2d_9\">\n      <path clip-path=\"url(#p1206dde872)\" d=\"M 38.482813 228.439219 \nL 201.562812 228.439219 \n\" style=\"fill:none;stroke:#b0b0b0;stroke-linecap:square;stroke-width:0.8;\"/>\n     </g>\n     <g id=\"line2d_10\">\n      <defs>\n       <path d=\"M 0 0 \nL -3.5 0 \n\" id=\"m200dbe7b45\" style=\"stroke:#000000;stroke-width:0.8;\"/>\n      </defs>\n      <g>\n       <use style=\"stroke:#000000;stroke-width:0.8;\" x=\"38.482813\" xlink:href=\"#m200dbe7b45\" y=\"228.439219\"/>\n      </g>\n     </g>\n     <g id=\"text_5\">\n      <!-- −2.0 -->\n      <defs>\n       <path d=\"M 10.6875 12.40625 \nL 21 12.40625 \nL 21 0 \nL 10.6875 0 \nz\n\" id=\"DejaVuSans-46\"/>\n      </defs>\n      <g transform=\"translate(7.2 232.238437)scale(0.1 -0.1)\">\n       <use xlink:href=\"#DejaVuSans-8722\"/>\n       <use x=\"83.789062\" xlink:href=\"#DejaVuSans-50\"/>\n       <use x=\"147.412109\" xlink:href=\"#DejaVuSans-46\"/>\n       <use x=\"179.199219\" xlink:href=\"#DejaVuSans-48\"/>\n      </g>\n     </g>\n    </g>\n    <g id=\"ytick_2\">\n     <g id=\"line2d_11\">\n      <path clip-path=\"url(#p1206dde872)\" d=\"M 38.482813 201.259219 \nL 201.562812 201.259219 \n\" style=\"fill:none;stroke:#b0b0b0;stroke-linecap:square;stroke-width:0.8;\"/>\n     </g>\n     <g id=\"line2d_12\">\n      <g>\n       <use style=\"stroke:#000000;stroke-width:0.8;\" x=\"38.482813\" xlink:href=\"#m200dbe7b45\" y=\"201.259219\"/>\n      </g>\n     </g>\n     <g id=\"text_6\">\n      <!-- −1.5 -->\n      <defs>\n       <path d=\"M 10.796875 72.90625 \nL 49.515625 72.90625 \nL 49.515625 64.59375 \nL 19.828125 64.59375 \nL 19.828125 46.734375 \nQ 21.96875 47.46875 24.109375 47.828125 \nQ 26.265625 48.1875 28.421875 48.1875 \nQ 40.625 48.1875 47.75 41.5 \nQ 54.890625 34.8125 54.890625 23.390625 \nQ 54.890625 11.625 47.5625 5.09375 \nQ 40.234375 -1.421875 26.90625 -1.421875 \nQ 22.3125 -1.421875 17.546875 -0.640625 \nQ 12.796875 0.140625 7.71875 1.703125 \nL 7.71875 11.625 \nQ 12.109375 9.234375 16.796875 8.0625 \nQ 21.484375 6.890625 26.703125 6.890625 \nQ 35.15625 6.890625 40.078125 11.328125 \nQ 45.015625 15.765625 45.015625 23.390625 \nQ 45.015625 31 40.078125 35.4375 \nQ 35.15625 39.890625 26.703125 39.890625 \nQ 22.75 39.890625 18.8125 39.015625 \nQ 14.890625 38.140625 10.796875 36.28125 \nz\n\" id=\"DejaVuSans-53\"/>\n      </defs>\n      <g transform=\"translate(7.2 205.058437)scale(0.1 -0.1)\">\n       <use xlink:href=\"#DejaVuSans-8722\"/>\n       <use x=\"83.789062\" xlink:href=\"#DejaVuSans-49\"/>\n       <use x=\"147.412109\" xlink:href=\"#DejaVuSans-46\"/>\n       <use x=\"179.199219\" xlink:href=\"#DejaVuSans-53\"/>\n      </g>\n     </g>\n    </g>\n    <g id=\"ytick_3\">\n     <g id=\"line2d_13\">\n      <path clip-path=\"url(#p1206dde872)\" d=\"M 38.482813 174.079219 \nL 201.562812 174.079219 \n\" style=\"fill:none;stroke:#b0b0b0;stroke-linecap:square;stroke-width:0.8;\"/>\n     </g>\n     <g id=\"line2d_14\">\n      <g>\n       <use style=\"stroke:#000000;stroke-width:0.8;\" x=\"38.482813\" xlink:href=\"#m200dbe7b45\" y=\"174.079219\"/>\n      </g>\n     </g>\n     <g id=\"text_7\">\n      <!-- −1.0 -->\n      <g transform=\"translate(7.2 177.878437)scale(0.1 -0.1)\">\n       <use xlink:href=\"#DejaVuSans-8722\"/>\n       <use x=\"83.789062\" xlink:href=\"#DejaVuSans-49\"/>\n       <use x=\"147.412109\" xlink:href=\"#DejaVuSans-46\"/>\n       <use x=\"179.199219\" xlink:href=\"#DejaVuSans-48\"/>\n      </g>\n     </g>\n    </g>\n    <g id=\"ytick_4\">\n     <g id=\"line2d_15\">\n      <path clip-path=\"url(#p1206dde872)\" d=\"M 38.482813 146.899219 \nL 201.562812 146.899219 \n\" style=\"fill:none;stroke:#b0b0b0;stroke-linecap:square;stroke-width:0.8;\"/>\n     </g>\n     <g id=\"line2d_16\">\n      <g>\n       <use style=\"stroke:#000000;stroke-width:0.8;\" x=\"38.482813\" xlink:href=\"#m200dbe7b45\" y=\"146.899219\"/>\n      </g>\n     </g>\n     <g id=\"text_8\">\n      <!-- −0.5 -->\n      <g transform=\"translate(7.2 150.698437)scale(0.1 -0.1)\">\n       <use xlink:href=\"#DejaVuSans-8722\"/>\n       <use x=\"83.789062\" xlink:href=\"#DejaVuSans-48\"/>\n       <use x=\"147.412109\" xlink:href=\"#DejaVuSans-46\"/>\n       <use x=\"179.199219\" xlink:href=\"#DejaVuSans-53\"/>\n      </g>\n     </g>\n    </g>\n    <g id=\"ytick_5\">\n     <g id=\"line2d_17\">\n      <path clip-path=\"url(#p1206dde872)\" d=\"M 38.482813 119.719219 \nL 201.562812 119.719219 \n\" style=\"fill:none;stroke:#b0b0b0;stroke-linecap:square;stroke-width:0.8;\"/>\n     </g>\n     <g id=\"line2d_18\">\n      <g>\n       <use style=\"stroke:#000000;stroke-width:0.8;\" x=\"38.482813\" xlink:href=\"#m200dbe7b45\" y=\"119.719219\"/>\n      </g>\n     </g>\n     <g id=\"text_9\">\n      <!-- 0.0 -->\n      <g transform=\"translate(15.579688 123.518437)scale(0.1 -0.1)\">\n       <use xlink:href=\"#DejaVuSans-48\"/>\n       <use x=\"63.623047\" xlink:href=\"#DejaVuSans-46\"/>\n       <use x=\"95.410156\" xlink:href=\"#DejaVuSans-48\"/>\n      </g>\n     </g>\n    </g>\n    <g id=\"ytick_6\">\n     <g id=\"line2d_19\">\n      <path clip-path=\"url(#p1206dde872)\" d=\"M 38.482813 92.539219 \nL 201.562812 92.539219 \n\" style=\"fill:none;stroke:#b0b0b0;stroke-linecap:square;stroke-width:0.8;\"/>\n     </g>\n     <g id=\"line2d_20\">\n      <g>\n       <use style=\"stroke:#000000;stroke-width:0.8;\" x=\"38.482813\" xlink:href=\"#m200dbe7b45\" y=\"92.539219\"/>\n      </g>\n     </g>\n     <g id=\"text_10\">\n      <!-- 0.5 -->\n      <g transform=\"translate(15.579688 96.338437)scale(0.1 -0.1)\">\n       <use xlink:href=\"#DejaVuSans-48\"/>\n       <use x=\"63.623047\" xlink:href=\"#DejaVuSans-46\"/>\n       <use x=\"95.410156\" xlink:href=\"#DejaVuSans-53\"/>\n      </g>\n     </g>\n    </g>\n    <g id=\"ytick_7\">\n     <g id=\"line2d_21\">\n      <path clip-path=\"url(#p1206dde872)\" d=\"M 38.482813 65.359219 \nL 201.562812 65.359219 \n\" style=\"fill:none;stroke:#b0b0b0;stroke-linecap:square;stroke-width:0.8;\"/>\n     </g>\n     <g id=\"line2d_22\">\n      <g>\n       <use style=\"stroke:#000000;stroke-width:0.8;\" x=\"38.482813\" xlink:href=\"#m200dbe7b45\" y=\"65.359219\"/>\n      </g>\n     </g>\n     <g id=\"text_11\">\n      <!-- 1.0 -->\n      <g transform=\"translate(15.579688 69.158437)scale(0.1 -0.1)\">\n       <use xlink:href=\"#DejaVuSans-49\"/>\n       <use x=\"63.623047\" xlink:href=\"#DejaVuSans-46\"/>\n       <use x=\"95.410156\" xlink:href=\"#DejaVuSans-48\"/>\n      </g>\n     </g>\n    </g>\n    <g id=\"ytick_8\">\n     <g id=\"line2d_23\">\n      <path clip-path=\"url(#p1206dde872)\" d=\"M 38.482813 38.179219 \nL 201.562812 38.179219 \n\" style=\"fill:none;stroke:#b0b0b0;stroke-linecap:square;stroke-width:0.8;\"/>\n     </g>\n     <g id=\"line2d_24\">\n      <g>\n       <use style=\"stroke:#000000;stroke-width:0.8;\" x=\"38.482813\" xlink:href=\"#m200dbe7b45\" y=\"38.179219\"/>\n      </g>\n     </g>\n     <g id=\"text_12\">\n      <!-- 1.5 -->\n      <g transform=\"translate(15.579688 41.978437)scale(0.1 -0.1)\">\n       <use xlink:href=\"#DejaVuSans-49\"/>\n       <use x=\"63.623047\" xlink:href=\"#DejaVuSans-46\"/>\n       <use x=\"95.410156\" xlink:href=\"#DejaVuSans-53\"/>\n      </g>\n     </g>\n    </g>\n    <g id=\"ytick_9\">\n     <g id=\"line2d_25\">\n      <path clip-path=\"url(#p1206dde872)\" d=\"M 38.482813 10.999219 \nL 201.562812 10.999219 \n\" style=\"fill:none;stroke:#b0b0b0;stroke-linecap:square;stroke-width:0.8;\"/>\n     </g>\n     <g id=\"line2d_26\">\n      <g>\n       <use style=\"stroke:#000000;stroke-width:0.8;\" x=\"38.482813\" xlink:href=\"#m200dbe7b45\" y=\"10.999219\"/>\n      </g>\n     </g>\n     <g id=\"text_13\">\n      <!-- 2.0 -->\n      <g transform=\"translate(15.579688 14.798437)scale(0.1 -0.1)\">\n       <use xlink:href=\"#DejaVuSans-50\"/>\n       <use x=\"63.623047\" xlink:href=\"#DejaVuSans-46\"/>\n       <use x=\"95.410156\" xlink:href=\"#DejaVuSans-48\"/>\n      </g>\n     </g>\n    </g>\n   </g>\n   <g id=\"line2d_27\">\n    <path clip-path=\"url(#p1206dde872)\" d=\"M 92.842812 10.999219 \nL 92.842812 228.439219 \n\" style=\"fill:none;stroke:#0000ff;stroke-linecap:square;stroke-width:1.5;\"/>\n   </g>\n   <g id=\"line2d_28\">\n    <path clip-path=\"url(#p1206dde872)\" d=\"M 0 0 \n\" style=\"fill:none;stroke:#1f77b4;stroke-linecap:square;stroke-width:1.5;\"/>\n   </g>\n   <g id=\"patch_3\">\n    <path d=\"M 38.482813 228.439219 \nL 38.482813 10.999219 \n\" style=\"fill:none;stroke:#000000;stroke-linecap:square;stroke-linejoin:miter;stroke-width:0.8;\"/>\n   </g>\n   <g id=\"patch_4\">\n    <path d=\"M 201.562812 228.439219 \nL 201.562812 10.999219 \n\" style=\"fill:none;stroke:#000000;stroke-linecap:square;stroke-linejoin:miter;stroke-width:0.8;\"/>\n   </g>\n   <g id=\"patch_5\">\n    <path d=\"M 38.482813 228.439219 \nL 201.562812 228.439219 \n\" style=\"fill:none;stroke:#000000;stroke-linecap:square;stroke-linejoin:miter;stroke-width:0.8;\"/>\n   </g>\n   <g id=\"patch_6\">\n    <path d=\"M 38.482813 10.999219 \nL 201.562812 10.999219 \n\" style=\"fill:none;stroke:#000000;stroke-linecap:square;stroke-linejoin:miter;stroke-width:0.8;\"/>\n   </g>\n  </g>\n </g>\n <defs>\n  <clipPath id=\"p1206dde872\">\n   <rect height=\"217.44\" width=\"163.08\" x=\"38.482813\" y=\"10.999219\"/>\n  </clipPath>\n </defs>\n</svg>\n",
      "image/png": "[encoded data removed]"
     },
     "metadata": {
      "needs_background": "light"
     }
    }
   ],
   "source": [
    "w, b, mistake = perceptron_anim_2d(X,Y,plot=True,max_pass=1)"
   ]
  },
  {
   "cell_type": "code",
   "execution_count": 60,
   "metadata": {},
   "outputs": [
    {
     "output_type": "execute_result",
     "data": {
      "text/plain": [
       "(array([1, 1]), 1, [1])"
      ]
     },
     "metadata": {},
     "execution_count": 60
    }
   ],
   "source": [
    "w, b, mistake "
   ]
  },
  {
   "cell_type": "code",
   "execution_count": 71,
   "metadata": {},
   "outputs": [
    {
     "output_type": "stream",
     "name": "stdout",
     "text": [
      "0.8944271909999159\n-2.0\n0.8944271909999159\n-2.0\n0.8944271909999159\n-2.0\n0.8944271909999159\n-2.0\n0.8944271909999159\n-2.0\n0.8944271909999159\n-2.0\n"
     ]
    }
   ],
   "source": [
    "for x in X:\n",
    "    x1 = x + [0, b]\n",
    "    print(np.dot(w, x)/np.linalg.norm(x1))"
   ]
  },
  {
   "cell_type": "code",
   "execution_count": 72,
   "metadata": {},
   "outputs": [
    {
     "output_type": "execute_result",
     "data": {
      "text/plain": [
       "0.7071067811865475"
      ]
     },
     "metadata": {},
     "execution_count": 72
    }
   ],
   "source": [
    "1/(np.sqrt())"
   ]
  },
  {
   "cell_type": "code",
   "execution_count": 10,
   "metadata": {},
   "outputs": [],
   "source": [
    "X = []\n",
    "Y = []\n",
    "for i in range(0, 100):\n",
    "    x0 = -1 + 2 * np.random.rand()\n",
    "    x1 = np.sqrt(1 - x0 * x0)\n",
    "    X.append([x0, x1])\n",
    "    X.append([x0, -x1])\n",
    "    Y.append(1)\n",
    "    Y.append(-1)\n",
    "\n",
    "X = np.array(X)\n",
    "Y = np.array(Y)"
   ]
  },
  {
   "cell_type": "code",
   "execution_count": null,
   "metadata": {},
   "outputs": [],
   "source": [
    "Y"
   ]
  },
  {
   "cell_type": "code",
   "execution_count": 2,
   "metadata": {},
   "outputs": [
    {
     "output_type": "error",
     "ename": "NameError",
     "evalue": "name 'np' is not defined",
     "traceback": [
      "\u001b[0;31m---------------------------------------------------------------------------\u001b[0m",
      "\u001b[0;31mNameError\u001b[0m                                 Traceback (most recent call last)",
      "\u001b[0;32m<ipython-input-2-f57b02671dfb>\u001b[0m in \u001b[0;36m<module>\u001b[0;34m\u001b[0m\n\u001b[0;32m----> 1\u001b[0;31m \u001b[0mpx\u001b[0m \u001b[0;34m=\u001b[0m \u001b[0mnp\u001b[0m\u001b[0;34m.\u001b[0m\u001b[0mtranspose\u001b[0m\u001b[0;34m(\u001b[0m\u001b[0mX\u001b[0m\u001b[0;34m)\u001b[0m\u001b[0;34m\u001b[0m\u001b[0;34m\u001b[0m\u001b[0m\n\u001b[0m\u001b[1;32m      2\u001b[0m \u001b[0mfig2\u001b[0m\u001b[0;34m,\u001b[0m \u001b[0max2\u001b[0m \u001b[0;34m=\u001b[0m \u001b[0mplt\u001b[0m\u001b[0;34m.\u001b[0m\u001b[0msubplots\u001b[0m\u001b[0;34m(\u001b[0m\u001b[0;34m)\u001b[0m\u001b[0;34m\u001b[0m\u001b[0;34m\u001b[0m\u001b[0m\n\u001b[1;32m      3\u001b[0m \u001b[0;34m\u001b[0m\u001b[0m\n\u001b[1;32m      4\u001b[0m \u001b[0mx_min\u001b[0m\u001b[0;34m,\u001b[0m \u001b[0mx_max\u001b[0m \u001b[0;34m=\u001b[0m \u001b[0mX\u001b[0m\u001b[0;34m[\u001b[0m\u001b[0;34m:\u001b[0m\u001b[0;34m,\u001b[0m \u001b[0;36m0\u001b[0m\u001b[0;34m]\u001b[0m\u001b[0;34m.\u001b[0m\u001b[0mmin\u001b[0m\u001b[0;34m(\u001b[0m\u001b[0;34m)\u001b[0m \u001b[0;34m-\u001b[0m \u001b[0;36m1\u001b[0m\u001b[0;34m,\u001b[0m \u001b[0mX\u001b[0m\u001b[0;34m[\u001b[0m\u001b[0;34m:\u001b[0m\u001b[0;34m,\u001b[0m \u001b[0;36m0\u001b[0m\u001b[0;34m]\u001b[0m\u001b[0;34m.\u001b[0m\u001b[0mmax\u001b[0m\u001b[0;34m(\u001b[0m\u001b[0;34m)\u001b[0m \u001b[0;34m+\u001b[0m \u001b[0;36m1\u001b[0m\u001b[0;34m\u001b[0m\u001b[0;34m\u001b[0m\u001b[0m\n\u001b[1;32m      5\u001b[0m \u001b[0my_min\u001b[0m\u001b[0;34m,\u001b[0m \u001b[0my_max\u001b[0m \u001b[0;34m=\u001b[0m \u001b[0mX\u001b[0m\u001b[0;34m[\u001b[0m\u001b[0;34m:\u001b[0m\u001b[0;34m,\u001b[0m \u001b[0;36m1\u001b[0m\u001b[0;34m]\u001b[0m\u001b[0;34m.\u001b[0m\u001b[0mmin\u001b[0m\u001b[0;34m(\u001b[0m\u001b[0;34m)\u001b[0m \u001b[0;34m-\u001b[0m \u001b[0;36m1\u001b[0m\u001b[0;34m,\u001b[0m \u001b[0mX\u001b[0m\u001b[0;34m[\u001b[0m\u001b[0;34m:\u001b[0m\u001b[0;34m,\u001b[0m \u001b[0;36m1\u001b[0m\u001b[0;34m]\u001b[0m\u001b[0;34m.\u001b[0m\u001b[0mmax\u001b[0m\u001b[0;34m(\u001b[0m\u001b[0;34m)\u001b[0m \u001b[0;34m+\u001b[0m \u001b[0;36m1\u001b[0m\u001b[0;34m\u001b[0m\u001b[0;34m\u001b[0m\u001b[0m\n",
      "\u001b[0;31mNameError\u001b[0m: name 'np' is not defined"
     ]
    }
   ],
   "source": []
  },
  {
   "cell_type": "code",
   "execution_count": 171,
   "metadata": {},
   "outputs": [
    {
     "output_type": "stream",
     "name": "stdout",
     "text": [
      "[0.06961841 0.20373728] 1.0\n[[ 4.10317981 -0.64564221]] [-0.08047059]\n"
     ]
    }
   ],
   "source": [
    "print(w, b)\n",
    "print(clf2.coef_,clf2.intercept_)"
   ]
  },
  {
   "cell_type": "code",
   "execution_count": 22,
   "metadata": {},
   "outputs": [],
   "source": [
    "from sklearn import svm"
   ]
  },
  {
   "cell_type": "code",
   "execution_count": 26,
   "metadata": {},
   "outputs": [
    {
     "output_type": "display_data",
     "data": {
      "text/plain": "<Figure size 432x288 with 1 Axes>",
      "image/svg+xml": "<?xml version=\"1.0\" encoding=\"utf-8\" standalone=\"no\"?>\n<!DOCTYPE svg PUBLIC \"-//W3C//DTD SVG 1.1//EN\"\n  \"http://www.w3.org/Graphics/SVG/1.1/DTD/svg11.dtd\">\n<!-- Created with matplotlib (https://matplotlib.org/) -->\n<svg height=\"252.317344pt\" version=\"1.1\" viewBox=\"0 0 388.434375 252.317344\" width=\"388.434375pt\" xmlns=\"http://www.w3.org/2000/svg\" xmlns:xlink=\"http://www.w3.org/1999/xlink\">\n <defs>\n  <style type=\"text/css\">\n*{stroke-linecap:butt;stroke-linejoin:round;}\n  </style>\n </defs>\n <g id=\"figure_1\">\n  <g id=\"patch_1\">\n   <path d=\"M -0 252.317344 \nL 388.434375 252.317344 \nL 388.434375 0 \nL -0 0 \nz\n\" style=\"fill:none;\"/>\n  </g>\n  <g id=\"axes_1\">\n   <g id=\"patch_2\">\n    <path d=\"M 38.482813 228.439219 \nL 373.282813 228.439219 \nL 373.282813 10.999219 \nL 38.482813 10.999219 \nz\n\" style=\"fill:#ffffff;\"/>\n   </g>\n   <g id=\"PathCollection_1\">\n    <path clip-path=\"url(#pa6dd0dc2d4)\" d=\"M 55.222813 228.439219 \nL 71.962812 228.439219 \nL 88.702812 228.439219 \nL 105.442812 228.439219 \nL 122.182812 228.439219 \nL 138.922812 228.439219 \nL 155.662812 228.439219 \nL 172.402812 228.439219 \nL 189.142812 228.439219 \nL 205.882812 228.439219 \nL 222.622812 228.439219 \nL 239.362812 228.439219 \nL 256.102812 228.439219 \nL 272.842812 228.439219 \nL 289.582812 228.439219 \nL 306.322812 228.439219 \nL 323.062812 228.439219 \nL 339.802812 228.439219 \nL 356.542812 228.439219 \nL 356.542812 217.567219 \nL 356.542812 216.208219 \nL 341.895312 206.695219 \nL 339.802812 205.336219 \nL 325.155312 195.823219 \nL 323.062812 194.464219 \nL 308.415312 184.951219 \nL 306.322812 183.592219 \nL 291.675312 174.079219 \nL 289.582812 172.720219 \nL 274.935312 163.207219 \nL 272.842812 161.848219 \nL 258.195312 152.335219 \nL 256.102812 150.976219 \nL 241.455312 141.463219 \nL 239.362812 140.104219 \nL 224.715312 130.591219 \nL 222.622812 129.232219 \nL 207.975312 119.719219 \nL 205.882812 118.360219 \nL 191.235312 108.847219 \nL 189.142812 107.488219 \nL 174.495312 97.975219 \nL 172.402812 96.616219 \nL 157.755312 87.103219 \nL 155.662812 85.744219 \nL 141.015312 76.231219 \nL 138.922812 74.872219 \nL 124.275312 65.359219 \nL 122.182812 64.000219 \nL 107.535312 54.487219 \nL 105.442812 53.128219 \nL 90.795312 43.615219 \nL 88.702812 42.256219 \nL 74.055312 32.743219 \nL 71.962812 31.384219 \nL 57.315313 21.871219 \nL 55.222813 21.871219 \nL 38.482812 21.871219 \nL 38.482812 32.743219 \nL 38.482812 43.615219 \nL 38.482812 54.487219 \nL 38.482812 65.359219 \nL 38.482812 76.231219 \nL 38.482812 87.103219 \nL 38.482812 97.975219 \nL 38.482812 108.847219 \nL 38.482812 119.719219 \nL 38.482812 130.591219 \nL 38.482812 141.463219 \nL 38.482812 152.335219 \nL 38.482812 163.207219 \nL 38.482812 174.079219 \nL 38.482812 184.951219 \nL 38.482812 195.823219 \nL 38.482812 206.695219 \nL 38.482812 217.567219 \nL 38.482812 228.439219 \nz\n\" style=\"fill:#4e68d8;fill-opacity:0.3;\"/>\n   </g>\n   <g id=\"PathCollection_2\">\n    <path clip-path=\"url(#pa6dd0dc2d4)\" d=\"M 356.542812 216.208219 \nL 356.542812 214.849219 \nL 343.987812 206.695219 \nL 339.802812 203.977219 \nL 327.247812 195.823219 \nL 323.062812 193.105219 \nL 310.507812 184.951219 \nL 306.322812 182.233219 \nL 293.767812 174.079219 \nL 289.582812 171.361219 \nL 277.027812 163.207219 \nL 272.842812 160.489219 \nL 260.287812 152.335219 \nL 256.102812 149.617219 \nL 243.547812 141.463219 \nL 239.362812 138.745219 \nL 226.807812 130.591219 \nL 222.622812 127.873219 \nL 210.067812 119.719219 \nL 205.882812 117.001219 \nL 193.327812 108.847219 \nL 189.142812 106.129219 \nL 176.587812 97.975219 \nL 172.402812 95.257219 \nL 159.847812 87.103219 \nL 155.662812 84.385219 \nL 143.107812 76.231219 \nL 138.922812 73.513219 \nL 126.367812 65.359219 \nL 122.182812 62.641219 \nL 109.627812 54.487219 \nL 105.442812 51.769219 \nL 92.887812 43.615219 \nL 88.702812 40.897219 \nL 76.147812 32.743219 \nL 71.962812 30.025219 \nL 59.407813 21.871219 \nL 57.315313 21.871219 \nL 71.962812 31.384219 \nL 74.055312 32.743219 \nL 88.702812 42.256219 \nL 90.795312 43.615219 \nL 105.442812 53.128219 \nL 107.535312 54.487219 \nL 122.182812 64.000219 \nL 124.275312 65.359219 \nL 138.922812 74.872219 \nL 141.015312 76.231219 \nL 155.662812 85.744219 \nL 157.755312 87.103219 \nL 172.402812 96.616219 \nL 174.495312 97.975219 \nL 189.142812 107.488219 \nL 191.235312 108.847219 \nL 205.882812 118.360219 \nL 207.975312 119.719219 \nL 222.622812 129.232219 \nL 224.715312 130.591219 \nL 239.362812 140.104219 \nL 241.455312 141.463219 \nL 256.102812 150.976219 \nL 258.195312 152.335219 \nL 272.842812 161.848219 \nL 274.935312 163.207219 \nL 289.582812 172.720219 \nL 291.675312 174.079219 \nL 306.322812 183.592219 \nL 308.415312 184.951219 \nL 323.062812 194.464219 \nL 325.155312 195.823219 \nL 339.802812 205.336219 \nL 341.895312 206.695219 \nz\n\" style=\"fill:#779af7;fill-opacity:0.3;\"/>\n   </g>\n   <g id=\"PathCollection_3\">\n    <path clip-path=\"url(#pa6dd0dc2d4)\" d=\"M 356.542812 214.849219 \nL 356.542812 213.490219 \nL 346.080312 206.695219 \nL 339.802812 202.618219 \nL 329.340312 195.823219 \nL 323.062812 191.746219 \nL 312.600312 184.951219 \nL 306.322812 180.874219 \nL 295.860312 174.079219 \nL 289.582812 170.002219 \nL 279.120312 163.207219 \nL 272.842812 159.130219 \nL 262.380312 152.335219 \nL 256.102812 148.258219 \nL 245.640312 141.463219 \nL 239.362812 137.386219 \nL 228.900312 130.591219 \nL 222.622812 126.514219 \nL 212.160312 119.719219 \nL 205.882812 115.642219 \nL 195.420312 108.847219 \nL 189.142812 104.770219 \nL 178.680312 97.975219 \nL 172.402812 93.898219 \nL 161.940312 87.103219 \nL 155.662812 83.026219 \nL 145.200312 76.231219 \nL 138.922812 72.154219 \nL 128.460312 65.359219 \nL 122.182812 61.282219 \nL 111.720312 54.487219 \nL 105.442812 50.410219 \nL 94.980312 43.615219 \nL 88.702812 39.538219 \nL 78.240313 32.743219 \nL 71.962812 28.666219 \nL 61.500312 21.871219 \nL 59.407813 21.871219 \nL 71.962812 30.025219 \nL 76.147812 32.743219 \nL 88.702812 40.897219 \nL 92.887812 43.615219 \nL 105.442812 51.769219 \nL 109.627812 54.487219 \nL 122.182812 62.641219 \nL 126.367812 65.359219 \nL 138.922812 73.513219 \nL 143.107812 76.231219 \nL 155.662812 84.385219 \nL 159.847812 87.103219 \nL 172.402812 95.257219 \nL 176.587812 97.975219 \nL 189.142812 106.129219 \nL 193.327812 108.847219 \nL 205.882812 117.001219 \nL 210.067812 119.719219 \nL 222.622812 127.873219 \nL 226.807812 130.591219 \nL 239.362812 138.745219 \nL 243.547812 141.463219 \nL 256.102812 149.617219 \nL 260.287812 152.335219 \nL 272.842812 160.489219 \nL 277.027812 163.207219 \nL 289.582812 171.361219 \nL 293.767812 174.079219 \nL 306.322812 182.233219 \nL 310.507812 184.951219 \nL 323.062812 193.105219 \nL 327.247812 195.823219 \nL 339.802812 203.977219 \nL 343.987812 206.695219 \nz\n\" style=\"fill:#a3c2fe;fill-opacity:0.3;\"/>\n   </g>\n   <g id=\"PathCollection_4\">\n    <path clip-path=\"url(#pa6dd0dc2d4)\" d=\"M 356.542812 213.490219 \nL 356.542812 212.131219 \nL 348.172812 206.695219 \nL 339.802812 201.259219 \nL 331.432812 195.823219 \nL 323.062812 190.387219 \nL 314.692812 184.951219 \nL 306.322812 179.515219 \nL 297.952812 174.079219 \nL 289.582812 168.643219 \nL 281.212812 163.207219 \nL 272.842812 157.771219 \nL 264.472812 152.335219 \nL 256.102812 146.899219 \nL 247.732812 141.463219 \nL 239.362812 136.027219 \nL 230.992812 130.591219 \nL 222.622812 125.155219 \nL 214.252812 119.719219 \nL 205.882812 114.283219 \nL 197.512812 108.847219 \nL 189.142812 103.411219 \nL 180.772812 97.975219 \nL 172.402812 92.539219 \nL 164.032812 87.103219 \nL 155.662812 81.667219 \nL 147.292812 76.231219 \nL 138.922812 70.795219 \nL 130.552812 65.359219 \nL 122.182812 59.923219 \nL 113.812812 54.487219 \nL 105.442812 49.051219 \nL 97.072812 43.615219 \nL 88.702812 38.179219 \nL 80.332812 32.743219 \nL 71.962812 27.307219 \nL 63.592812 21.871219 \nL 61.500312 21.871219 \nL 71.962812 28.666219 \nL 78.240313 32.743219 \nL 88.702812 39.538219 \nL 94.980312 43.615219 \nL 105.442812 50.410219 \nL 111.720312 54.487219 \nL 122.182812 61.282219 \nL 128.460312 65.359219 \nL 138.922812 72.154219 \nL 145.200312 76.231219 \nL 155.662812 83.026219 \nL 161.940312 87.103219 \nL 172.402812 93.898219 \nL 178.680312 97.975219 \nL 189.142812 104.770219 \nL 195.420312 108.847219 \nL 205.882812 115.642219 \nL 212.160312 119.719219 \nL 222.622812 126.514219 \nL 228.900312 130.591219 \nL 239.362812 137.386219 \nL 245.640312 141.463219 \nL 256.102812 148.258219 \nL 262.380312 152.335219 \nL 272.842812 159.130219 \nL 279.120312 163.207219 \nL 289.582812 170.002219 \nL 295.860312 174.079219 \nL 306.322812 180.874219 \nL 312.600312 184.951219 \nL 323.062812 191.746219 \nL 329.340312 195.823219 \nL 339.802812 202.618219 \nL 346.080312 206.695219 \nz\n\" style=\"fill:#ccd9ed;fill-opacity:0.3;\"/>\n   </g>\n   <g id=\"PathCollection_5\">\n    <path clip-path=\"url(#pa6dd0dc2d4)\" d=\"M 356.542812 212.131219 \nL 356.542812 210.772219 \nL 350.265312 206.695219 \nL 339.802812 199.900219 \nL 333.525312 195.823219 \nL 323.062812 189.028219 \nL 316.785312 184.951219 \nL 306.322812 178.156219 \nL 300.045312 174.079219 \nL 289.582812 167.284219 \nL 283.305312 163.207219 \nL 272.842812 156.412219 \nL 266.565312 152.335219 \nL 256.102812 145.540219 \nL 249.825312 141.463219 \nL 239.362812 134.668219 \nL 233.085312 130.591219 \nL 222.622812 123.796219 \nL 216.345312 119.719219 \nL 205.882812 112.924219 \nL 199.605312 108.847219 \nL 189.142812 102.052219 \nL 182.865312 97.975219 \nL 172.402812 91.180219 \nL 166.125312 87.103219 \nL 155.662812 80.308219 \nL 149.385312 76.231219 \nL 138.922812 69.436219 \nL 132.645312 65.359219 \nL 122.182812 58.564219 \nL 115.905312 54.487219 \nL 105.442812 47.692219 \nL 99.165312 43.615219 \nL 88.702812 36.820219 \nL 82.425312 32.743219 \nL 71.962812 25.948219 \nL 65.685312 21.871219 \nL 63.592812 21.871219 \nL 71.962812 27.307219 \nL 80.332812 32.743219 \nL 88.702812 38.179219 \nL 97.072812 43.615219 \nL 105.442812 49.051219 \nL 113.812812 54.487219 \nL 122.182812 59.923219 \nL 130.552812 65.359219 \nL 138.922812 70.795219 \nL 147.292812 76.231219 \nL 155.662812 81.667219 \nL 164.032812 87.103219 \nL 172.402812 92.539219 \nL 180.772812 97.975219 \nL 189.142812 103.411219 \nL 197.512812 108.847219 \nL 205.882812 114.283219 \nL 214.252812 119.719219 \nL 222.622812 125.155219 \nL 230.992812 130.591219 \nL 239.362812 136.027219 \nL 247.732812 141.463219 \nL 256.102812 146.899219 \nL 264.472812 152.335219 \nL 272.842812 157.771219 \nL 281.212812 163.207219 \nL 289.582812 168.643219 \nL 297.952812 174.079219 \nL 306.322812 179.515219 \nL 314.692812 184.951219 \nL 323.062812 190.387219 \nL 331.432812 195.823219 \nL 339.802812 201.259219 \nL 348.172812 206.695219 \nz\n\" style=\"fill:#ecd3c5;fill-opacity:0.3;\"/>\n   </g>\n   <g id=\"PathCollection_6\">\n    <path clip-path=\"url(#pa6dd0dc2d4)\" d=\"M 356.542812 210.772219 \nL 356.542812 209.413219 \nL 352.357812 206.695219 \nL 339.802812 198.541219 \nL 335.617812 195.823219 \nL 323.062812 187.669219 \nL 318.877812 184.951219 \nL 306.322812 176.797219 \nL 302.137812 174.079219 \nL 289.582812 165.925219 \nL 285.397812 163.207219 \nL 272.842812 155.053219 \nL 268.657812 152.335219 \nL 256.102812 144.181219 \nL 251.917812 141.463219 \nL 239.362812 133.309219 \nL 235.177812 130.591219 \nL 222.622812 122.437219 \nL 218.437812 119.719219 \nL 205.882812 111.565219 \nL 201.697812 108.847219 \nL 189.142812 100.693219 \nL 184.957812 97.975219 \nL 172.402812 89.821219 \nL 168.217812 87.103219 \nL 155.662812 78.949219 \nL 151.477812 76.231219 \nL 138.922812 68.077219 \nL 134.737812 65.359219 \nL 122.182812 57.205219 \nL 117.997812 54.487219 \nL 105.442812 46.333219 \nL 101.257812 43.615219 \nL 88.702812 35.461219 \nL 84.517812 32.743219 \nL 71.962812 24.589219 \nL 67.777812 21.871219 \nL 65.685312 21.871219 \nL 71.962812 25.948219 \nL 82.425312 32.743219 \nL 88.702812 36.820219 \nL 99.165312 43.615219 \nL 105.442812 47.692219 \nL 115.905312 54.487219 \nL 122.182812 58.564219 \nL 132.645312 65.359219 \nL 138.922812 69.436219 \nL 149.385312 76.231219 \nL 155.662812 80.308219 \nL 166.125312 87.103219 \nL 172.402812 91.180219 \nL 182.865312 97.975219 \nL 189.142812 102.052219 \nL 199.605312 108.847219 \nL 205.882812 112.924219 \nL 216.345312 119.719219 \nL 222.622812 123.796219 \nL 233.085312 130.591219 \nL 239.362812 134.668219 \nL 249.825312 141.463219 \nL 256.102812 145.540219 \nL 266.565312 152.335219 \nL 272.842812 156.412219 \nL 283.305312 163.207219 \nL 289.582812 167.284219 \nL 300.045312 174.079219 \nL 306.322812 178.156219 \nL 316.785312 184.951219 \nL 323.062812 189.028219 \nL 333.525312 195.823219 \nL 339.802812 199.900219 \nL 350.265312 206.695219 \nz\n\" style=\"fill:#f7b093;fill-opacity:0.3;\"/>\n   </g>\n   <g id=\"PathCollection_7\">\n    <path clip-path=\"url(#pa6dd0dc2d4)\" d=\"M 356.542812 209.413219 \nL 356.542812 208.054219 \nL 354.450312 206.695219 \nL 339.802812 197.182219 \nL 337.710312 195.823219 \nL 323.062812 186.310219 \nL 320.970312 184.951219 \nL 306.322812 175.438219 \nL 304.230312 174.079219 \nL 289.582812 164.566219 \nL 287.490312 163.207219 \nL 272.842812 153.694219 \nL 270.750312 152.335219 \nL 256.102812 142.822219 \nL 254.010312 141.463219 \nL 239.362812 131.950219 \nL 237.270312 130.591219 \nL 222.622812 121.078219 \nL 220.530312 119.719219 \nL 205.882812 110.206219 \nL 203.790312 108.847219 \nL 189.142812 99.334219 \nL 187.050312 97.975219 \nL 172.402812 88.462219 \nL 170.310312 87.103219 \nL 155.662812 77.590219 \nL 153.570312 76.231219 \nL 138.922812 66.718219 \nL 136.830312 65.359219 \nL 122.182812 55.846219 \nL 120.090312 54.487219 \nL 105.442812 44.974219 \nL 103.350312 43.615219 \nL 88.702812 34.102219 \nL 86.610312 32.743219 \nL 71.962812 23.230219 \nL 69.870312 21.871219 \nL 67.777812 21.871219 \nL 71.962812 24.589219 \nL 84.517812 32.743219 \nL 88.702812 35.461219 \nL 101.257812 43.615219 \nL 105.442812 46.333219 \nL 117.997812 54.487219 \nL 122.182812 57.205219 \nL 134.737812 65.359219 \nL 138.922812 68.077219 \nL 151.477812 76.231219 \nL 155.662812 78.949219 \nL 168.217812 87.103219 \nL 172.402812 89.821219 \nL 184.957812 97.975219 \nL 189.142812 100.693219 \nL 201.697812 108.847219 \nL 205.882812 111.565219 \nL 218.437812 119.719219 \nL 222.622812 122.437219 \nL 235.177812 130.591219 \nL 239.362812 133.309219 \nL 251.917812 141.463219 \nL 256.102812 144.181219 \nL 268.657812 152.335219 \nL 272.842812 155.053219 \nL 285.397812 163.207219 \nL 289.582812 165.925219 \nL 302.137812 174.079219 \nL 306.322812 176.797219 \nL 318.877812 184.951219 \nL 323.062812 187.669219 \nL 335.617812 195.823219 \nL 339.802812 198.541219 \nL 352.357812 206.695219 \nz\n\" style=\"fill:#eb7d62;fill-opacity:0.3;\"/>\n   </g>\n   <g id=\"PathCollection_8\">\n    <path clip-path=\"url(#pa6dd0dc2d4)\" d=\"M 356.542812 208.054219 \nL 356.542812 206.695219 \nL 356.542812 195.823219 \nL 356.542812 184.951219 \nL 356.542812 174.079219 \nL 356.542812 163.207219 \nL 356.542812 152.335219 \nL 356.542812 141.463219 \nL 356.542812 130.591219 \nL 356.542812 119.719219 \nL 356.542812 108.847219 \nL 356.542812 97.975219 \nL 356.542812 87.103219 \nL 356.542812 76.231219 \nL 356.542812 65.359219 \nL 356.542812 54.487219 \nL 356.542812 43.615219 \nL 356.542812 32.743219 \nL 356.542812 21.871219 \nL 339.802812 21.871219 \nL 323.062812 21.871219 \nL 306.322812 21.871219 \nL 289.582812 21.871219 \nL 272.842812 21.871219 \nL 256.102812 21.871219 \nL 239.362812 21.871219 \nL 222.622812 21.871219 \nL 205.882812 21.871219 \nL 189.142812 21.871219 \nL 172.402812 21.871219 \nL 155.662812 21.871219 \nL 138.922812 21.871219 \nL 122.182812 21.871219 \nL 105.442812 21.871219 \nL 88.702812 21.871219 \nL 71.962812 21.871219 \nL 69.870312 21.871219 \nL 71.962812 23.230219 \nL 86.610312 32.743219 \nL 88.702812 34.102219 \nL 103.350312 43.615219 \nL 105.442812 44.974219 \nL 120.090312 54.487219 \nL 122.182812 55.846219 \nL 136.830312 65.359219 \nL 138.922812 66.718219 \nL 153.570312 76.231219 \nL 155.662812 77.590219 \nL 170.310312 87.103219 \nL 172.402812 88.462219 \nL 187.050312 97.975219 \nL 189.142812 99.334219 \nL 203.790312 108.847219 \nL 205.882812 110.206219 \nL 220.530312 119.719219 \nL 222.622812 121.078219 \nL 237.270312 130.591219 \nL 239.362812 131.950219 \nL 254.010312 141.463219 \nL 256.102812 142.822219 \nL 270.750312 152.335219 \nL 272.842812 153.694219 \nL 287.490312 163.207219 \nL 289.582812 164.566219 \nL 304.230312 174.079219 \nL 306.322812 175.438219 \nL 320.970312 184.951219 \nL 323.062812 186.310219 \nL 337.710312 195.823219 \nL 339.802812 197.182219 \nL 354.450312 206.695219 \nz\n\" style=\"fill:#ca3b37;fill-opacity:0.3;\"/>\n   </g>\n   <g id=\"PathCollection_9\">\n    <defs>\n     <path d=\"M 0 2.5 \nC 0.663008 2.5 1.29895 2.236584 1.767767 1.767767 \nC 2.236584 1.29895 2.5 0.663008 2.5 0 \nC 2.5 -0.663008 2.236584 -1.29895 1.767767 -1.767767 \nC 1.29895 -2.236584 0.663008 -2.5 0 -2.5 \nC -0.663008 -2.5 -1.29895 -2.236584 -1.767767 -1.767767 \nC -2.236584 -1.29895 -2.5 -0.663008 -2.5 0 \nC -2.5 0.663008 -2.236584 1.29895 -1.767767 1.767767 \nC -1.29895 2.236584 -0.663008 2.5 0 2.5 \nz\n\" id=\"C0_0_a618eddd64\"/>\n    </defs>\n    <g clip-path=\"url(#pa6dd0dc2d4)\">\n     <use style=\"fill:#b40426;stroke:#b40426;\" x=\"289.582812\" xlink:href=\"#C0_0_a618eddd64\" y=\"65.359219\"/>\n    </g>\n    <g clip-path=\"url(#pa6dd0dc2d4)\">\n     <use style=\"fill:#3b4cc0;stroke:#3b4cc0;\" x=\"122.182812\" xlink:href=\"#C0_0_a618eddd64\" y=\"174.079219\"/>\n    </g>\n    <g clip-path=\"url(#pa6dd0dc2d4)\">\n     <use style=\"fill:#b40426;stroke:#b40426;\" x=\"289.582812\" xlink:href=\"#C0_0_a618eddd64\" y=\"65.359219\"/>\n    </g>\n    <g clip-path=\"url(#pa6dd0dc2d4)\">\n     <use style=\"fill:#3b4cc0;stroke:#3b4cc0;\" x=\"122.182812\" xlink:href=\"#C0_0_a618eddd64\" y=\"174.079219\"/>\n    </g>\n    <g clip-path=\"url(#pa6dd0dc2d4)\">\n     <use style=\"fill:#b40426;stroke:#b40426;\" x=\"289.582812\" xlink:href=\"#C0_0_a618eddd64\" y=\"65.359219\"/>\n    </g>\n    <g clip-path=\"url(#pa6dd0dc2d4)\">\n     <use style=\"fill:#3b4cc0;stroke:#3b4cc0;\" x=\"122.182812\" xlink:href=\"#C0_0_a618eddd64\" y=\"174.079219\"/>\n    </g>\n    <g clip-path=\"url(#pa6dd0dc2d4)\">\n     <use style=\"fill:#b40426;stroke:#b40426;\" x=\"289.582812\" xlink:href=\"#C0_0_a618eddd64\" y=\"65.359219\"/>\n    </g>\n    <g clip-path=\"url(#pa6dd0dc2d4)\">\n     <use style=\"fill:#3b4cc0;stroke:#3b4cc0;\" x=\"122.182812\" xlink:href=\"#C0_0_a618eddd64\" y=\"174.079219\"/>\n    </g>\n    <g clip-path=\"url(#pa6dd0dc2d4)\">\n     <use style=\"fill:#b40426;stroke:#b40426;\" x=\"289.582812\" xlink:href=\"#C0_0_a618eddd64\" y=\"65.359219\"/>\n    </g>\n    <g clip-path=\"url(#pa6dd0dc2d4)\">\n     <use style=\"fill:#3b4cc0;stroke:#3b4cc0;\" x=\"122.182812\" xlink:href=\"#C0_0_a618eddd64\" y=\"174.079219\"/>\n    </g>\n    <g clip-path=\"url(#pa6dd0dc2d4)\">\n     <use style=\"fill:#b40426;stroke:#b40426;\" x=\"289.582812\" xlink:href=\"#C0_0_a618eddd64\" y=\"65.359219\"/>\n    </g>\n    <g clip-path=\"url(#pa6dd0dc2d4)\">\n     <use style=\"fill:#3b4cc0;stroke:#3b4cc0;\" x=\"122.182812\" xlink:href=\"#C0_0_a618eddd64\" y=\"174.079219\"/>\n    </g>\n   </g>\n   <g id=\"matplotlib.axis_1\">\n    <g id=\"xtick_1\">\n     <g id=\"line2d_1\">\n      <defs>\n       <path d=\"M 0 0 \nL 0 3.5 \n\" id=\"m75d25d49e2\" style=\"stroke:#000000;stroke-width:0.8;\"/>\n      </defs>\n      <g>\n       <use style=\"stroke:#000000;stroke-width:0.8;\" x=\"38.482812\" xlink:href=\"#m75d25d49e2\" y=\"228.439219\"/>\n      </g>\n     </g>\n     <g id=\"text_1\">\n      <!-- −2.0 -->\n      <defs>\n       <path d=\"M 10.59375 35.5 \nL 73.1875 35.5 \nL 73.1875 27.203125 \nL 10.59375 27.203125 \nz\n\" id=\"DejaVuSans-8722\"/>\n       <path d=\"M 19.1875 8.296875 \nL 53.609375 8.296875 \nL 53.609375 0 \nL 7.328125 0 \nL 7.328125 8.296875 \nQ 12.9375 14.109375 22.625 23.890625 \nQ 32.328125 33.6875 34.8125 36.53125 \nQ 39.546875 41.84375 41.421875 45.53125 \nQ 43.3125 49.21875 43.3125 52.78125 \nQ 43.3125 58.59375 39.234375 62.25 \nQ 35.15625 65.921875 28.609375 65.921875 \nQ 23.96875 65.921875 18.8125 64.3125 \nQ 13.671875 62.703125 7.8125 59.421875 \nL 7.8125 69.390625 \nQ 13.765625 71.78125 18.9375 73 \nQ 24.125 74.21875 28.421875 74.21875 \nQ 39.75 74.21875 46.484375 68.546875 \nQ 53.21875 62.890625 53.21875 53.421875 \nQ 53.21875 48.921875 51.53125 44.890625 \nQ 49.859375 40.875 45.40625 35.40625 \nQ 44.1875 33.984375 37.640625 27.21875 \nQ 31.109375 20.453125 19.1875 8.296875 \nz\n\" id=\"DejaVuSans-50\"/>\n       <path d=\"M 10.6875 12.40625 \nL 21 12.40625 \nL 21 0 \nL 10.6875 0 \nz\n\" id=\"DejaVuSans-46\"/>\n       <path d=\"M 31.78125 66.40625 \nQ 24.171875 66.40625 20.328125 58.90625 \nQ 16.5 51.421875 16.5 36.375 \nQ 16.5 21.390625 20.328125 13.890625 \nQ 24.171875 6.390625 31.78125 6.390625 \nQ 39.453125 6.390625 43.28125 13.890625 \nQ 47.125 21.390625 47.125 36.375 \nQ 47.125 51.421875 43.28125 58.90625 \nQ 39.453125 66.40625 31.78125 66.40625 \nz\nM 31.78125 74.21875 \nQ 44.046875 74.21875 50.515625 64.515625 \nQ 56.984375 54.828125 56.984375 36.375 \nQ 56.984375 17.96875 50.515625 8.265625 \nQ 44.046875 -1.421875 31.78125 -1.421875 \nQ 19.53125 -1.421875 13.0625 8.265625 \nQ 6.59375 17.96875 6.59375 36.375 \nQ 6.59375 54.828125 13.0625 64.515625 \nQ 19.53125 74.21875 31.78125 74.21875 \nz\n\" id=\"DejaVuSans-48\"/>\n      </defs>\n      <g transform=\"translate(26.341406 243.037656)scale(0.1 -0.1)\">\n       <use xlink:href=\"#DejaVuSans-8722\"/>\n       <use x=\"83.789062\" xlink:href=\"#DejaVuSans-50\"/>\n       <use x=\"147.412109\" xlink:href=\"#DejaVuSans-46\"/>\n       <use x=\"179.199219\" xlink:href=\"#DejaVuSans-48\"/>\n      </g>\n     </g>\n    </g>\n    <g id=\"xtick_2\">\n     <g id=\"line2d_2\">\n      <g>\n       <use style=\"stroke:#000000;stroke-width:0.8;\" x=\"80.332812\" xlink:href=\"#m75d25d49e2\" y=\"228.439219\"/>\n      </g>\n     </g>\n     <g id=\"text_2\">\n      <!-- −1.5 -->\n      <defs>\n       <path d=\"M 12.40625 8.296875 \nL 28.515625 8.296875 \nL 28.515625 63.921875 \nL 10.984375 60.40625 \nL 10.984375 69.390625 \nL 28.421875 72.90625 \nL 38.28125 72.90625 \nL 38.28125 8.296875 \nL 54.390625 8.296875 \nL 54.390625 0 \nL 12.40625 0 \nz\n\" id=\"DejaVuSans-49\"/>\n       <path d=\"M 10.796875 72.90625 \nL 49.515625 72.90625 \nL 49.515625 64.59375 \nL 19.828125 64.59375 \nL 19.828125 46.734375 \nQ 21.96875 47.46875 24.109375 47.828125 \nQ 26.265625 48.1875 28.421875 48.1875 \nQ 40.625 48.1875 47.75 41.5 \nQ 54.890625 34.8125 54.890625 23.390625 \nQ 54.890625 11.625 47.5625 5.09375 \nQ 40.234375 -1.421875 26.90625 -1.421875 \nQ 22.3125 -1.421875 17.546875 -0.640625 \nQ 12.796875 0.140625 7.71875 1.703125 \nL 7.71875 11.625 \nQ 12.109375 9.234375 16.796875 8.0625 \nQ 21.484375 6.890625 26.703125 6.890625 \nQ 35.15625 6.890625 40.078125 11.328125 \nQ 45.015625 15.765625 45.015625 23.390625 \nQ 45.015625 31 40.078125 35.4375 \nQ 35.15625 39.890625 26.703125 39.890625 \nQ 22.75 39.890625 18.8125 39.015625 \nQ 14.890625 38.140625 10.796875 36.28125 \nz\n\" id=\"DejaVuSans-53\"/>\n      </defs>\n      <g transform=\"translate(68.191406 243.037656)scale(0.1 -0.1)\">\n       <use xlink:href=\"#DejaVuSans-8722\"/>\n       <use x=\"83.789062\" xlink:href=\"#DejaVuSans-49\"/>\n       <use x=\"147.412109\" xlink:href=\"#DejaVuSans-46\"/>\n       <use x=\"179.199219\" xlink:href=\"#DejaVuSans-53\"/>\n      </g>\n     </g>\n    </g>\n    <g id=\"xtick_3\">\n     <g id=\"line2d_3\">\n      <g>\n       <use style=\"stroke:#000000;stroke-width:0.8;\" x=\"122.182812\" xlink:href=\"#m75d25d49e2\" y=\"228.439219\"/>\n      </g>\n     </g>\n     <g id=\"text_3\">\n      <!-- −1.0 -->\n      <g transform=\"translate(110.041406 243.037656)scale(0.1 -0.1)\">\n       <use xlink:href=\"#DejaVuSans-8722\"/>\n       <use x=\"83.789062\" xlink:href=\"#DejaVuSans-49\"/>\n       <use x=\"147.412109\" xlink:href=\"#DejaVuSans-46\"/>\n       <use x=\"179.199219\" xlink:href=\"#DejaVuSans-48\"/>\n      </g>\n     </g>\n    </g>\n    <g id=\"xtick_4\">\n     <g id=\"line2d_4\">\n      <g>\n       <use style=\"stroke:#000000;stroke-width:0.8;\" x=\"164.032813\" xlink:href=\"#m75d25d49e2\" y=\"228.439219\"/>\n      </g>\n     </g>\n     <g id=\"text_4\">\n      <!-- −0.5 -->\n      <g transform=\"translate(151.891406 243.037656)scale(0.1 -0.1)\">\n       <use xlink:href=\"#DejaVuSans-8722\"/>\n       <use x=\"83.789062\" xlink:href=\"#DejaVuSans-48\"/>\n       <use x=\"147.412109\" xlink:href=\"#DejaVuSans-46\"/>\n       <use x=\"179.199219\" xlink:href=\"#DejaVuSans-53\"/>\n      </g>\n     </g>\n    </g>\n    <g id=\"xtick_5\">\n     <g id=\"line2d_5\">\n      <g>\n       <use style=\"stroke:#000000;stroke-width:0.8;\" x=\"205.882812\" xlink:href=\"#m75d25d49e2\" y=\"228.439219\"/>\n      </g>\n     </g>\n     <g id=\"text_5\">\n      <!-- 0.0 -->\n      <g transform=\"translate(197.93125 243.037656)scale(0.1 -0.1)\">\n       <use xlink:href=\"#DejaVuSans-48\"/>\n       <use x=\"63.623047\" xlink:href=\"#DejaVuSans-46\"/>\n       <use x=\"95.410156\" xlink:href=\"#DejaVuSans-48\"/>\n      </g>\n     </g>\n    </g>\n    <g id=\"xtick_6\">\n     <g id=\"line2d_6\">\n      <g>\n       <use style=\"stroke:#000000;stroke-width:0.8;\" x=\"247.732812\" xlink:href=\"#m75d25d49e2\" y=\"228.439219\"/>\n      </g>\n     </g>\n     <g id=\"text_6\">\n      <!-- 0.5 -->\n      <g transform=\"translate(239.78125 243.037656)scale(0.1 -0.1)\">\n       <use xlink:href=\"#DejaVuSans-48\"/>\n       <use x=\"63.623047\" xlink:href=\"#DejaVuSans-46\"/>\n       <use x=\"95.410156\" xlink:href=\"#DejaVuSans-53\"/>\n      </g>\n     </g>\n    </g>\n    <g id=\"xtick_7\">\n     <g id=\"line2d_7\">\n      <g>\n       <use style=\"stroke:#000000;stroke-width:0.8;\" x=\"289.582812\" xlink:href=\"#m75d25d49e2\" y=\"228.439219\"/>\n      </g>\n     </g>\n     <g id=\"text_7\">\n      <!-- 1.0 -->\n      <g transform=\"translate(281.63125 243.037656)scale(0.1 -0.1)\">\n       <use xlink:href=\"#DejaVuSans-49\"/>\n       <use x=\"63.623047\" xlink:href=\"#DejaVuSans-46\"/>\n       <use x=\"95.410156\" xlink:href=\"#DejaVuSans-48\"/>\n      </g>\n     </g>\n    </g>\n    <g id=\"xtick_8\">\n     <g id=\"line2d_8\">\n      <g>\n       <use style=\"stroke:#000000;stroke-width:0.8;\" x=\"331.432813\" xlink:href=\"#m75d25d49e2\" y=\"228.439219\"/>\n      </g>\n     </g>\n     <g id=\"text_8\">\n      <!-- 1.5 -->\n      <g transform=\"translate(323.48125 243.037656)scale(0.1 -0.1)\">\n       <use xlink:href=\"#DejaVuSans-49\"/>\n       <use x=\"63.623047\" xlink:href=\"#DejaVuSans-46\"/>\n       <use x=\"95.410156\" xlink:href=\"#DejaVuSans-53\"/>\n      </g>\n     </g>\n    </g>\n    <g id=\"xtick_9\">\n     <g id=\"line2d_9\">\n      <g>\n       <use style=\"stroke:#000000;stroke-width:0.8;\" x=\"373.282812\" xlink:href=\"#m75d25d49e2\" y=\"228.439219\"/>\n      </g>\n     </g>\n     <g id=\"text_9\">\n      <!-- 2.0 -->\n      <g transform=\"translate(365.33125 243.037656)scale(0.1 -0.1)\">\n       <use xlink:href=\"#DejaVuSans-50\"/>\n       <use x=\"63.623047\" xlink:href=\"#DejaVuSans-46\"/>\n       <use x=\"95.410156\" xlink:href=\"#DejaVuSans-48\"/>\n      </g>\n     </g>\n    </g>\n   </g>\n   <g id=\"matplotlib.axis_2\">\n    <g id=\"ytick_1\">\n     <g id=\"line2d_10\">\n      <defs>\n       <path d=\"M 0 0 \nL -3.5 0 \n\" id=\"m331990617d\" style=\"stroke:#000000;stroke-width:0.8;\"/>\n      </defs>\n      <g>\n       <use style=\"stroke:#000000;stroke-width:0.8;\" x=\"38.482813\" xlink:href=\"#m331990617d\" y=\"228.439219\"/>\n      </g>\n     </g>\n     <g id=\"text_10\">\n      <!-- −2.0 -->\n      <g transform=\"translate(7.2 232.238437)scale(0.1 -0.1)\">\n       <use xlink:href=\"#DejaVuSans-8722\"/>\n       <use x=\"83.789062\" xlink:href=\"#DejaVuSans-50\"/>\n       <use x=\"147.412109\" xlink:href=\"#DejaVuSans-46\"/>\n       <use x=\"179.199219\" xlink:href=\"#DejaVuSans-48\"/>\n      </g>\n     </g>\n    </g>\n    <g id=\"ytick_2\">\n     <g id=\"line2d_11\">\n      <g>\n       <use style=\"stroke:#000000;stroke-width:0.8;\" x=\"38.482813\" xlink:href=\"#m331990617d\" y=\"201.259219\"/>\n      </g>\n     </g>\n     <g id=\"text_11\">\n      <!-- −1.5 -->\n      <g transform=\"translate(7.2 205.058437)scale(0.1 -0.1)\">\n       <use xlink:href=\"#DejaVuSans-8722\"/>\n       <use x=\"83.789062\" xlink:href=\"#DejaVuSans-49\"/>\n       <use x=\"147.412109\" xlink:href=\"#DejaVuSans-46\"/>\n       <use x=\"179.199219\" xlink:href=\"#DejaVuSans-53\"/>\n      </g>\n     </g>\n    </g>\n    <g id=\"ytick_3\">\n     <g id=\"line2d_12\">\n      <g>\n       <use style=\"stroke:#000000;stroke-width:0.8;\" x=\"38.482813\" xlink:href=\"#m331990617d\" y=\"174.079219\"/>\n      </g>\n     </g>\n     <g id=\"text_12\">\n      <!-- −1.0 -->\n      <g transform=\"translate(7.2 177.878437)scale(0.1 -0.1)\">\n       <use xlink:href=\"#DejaVuSans-8722\"/>\n       <use x=\"83.789062\" xlink:href=\"#DejaVuSans-49\"/>\n       <use x=\"147.412109\" xlink:href=\"#DejaVuSans-46\"/>\n       <use x=\"179.199219\" xlink:href=\"#DejaVuSans-48\"/>\n      </g>\n     </g>\n    </g>\n    <g id=\"ytick_4\">\n     <g id=\"line2d_13\">\n      <g>\n       <use style=\"stroke:#000000;stroke-width:0.8;\" x=\"38.482813\" xlink:href=\"#m331990617d\" y=\"146.899219\"/>\n      </g>\n     </g>\n     <g id=\"text_13\">\n      <!-- −0.5 -->\n      <g transform=\"translate(7.2 150.698437)scale(0.1 -0.1)\">\n       <use xlink:href=\"#DejaVuSans-8722\"/>\n       <use x=\"83.789062\" xlink:href=\"#DejaVuSans-48\"/>\n       <use x=\"147.412109\" xlink:href=\"#DejaVuSans-46\"/>\n       <use x=\"179.199219\" xlink:href=\"#DejaVuSans-53\"/>\n      </g>\n     </g>\n    </g>\n    <g id=\"ytick_5\">\n     <g id=\"line2d_14\">\n      <g>\n       <use style=\"stroke:#000000;stroke-width:0.8;\" x=\"38.482813\" xlink:href=\"#m331990617d\" y=\"119.719219\"/>\n      </g>\n     </g>\n     <g id=\"text_14\">\n      <!-- 0.0 -->\n      <g transform=\"translate(15.579688 123.518437)scale(0.1 -0.1)\">\n       <use xlink:href=\"#DejaVuSans-48\"/>\n       <use x=\"63.623047\" xlink:href=\"#DejaVuSans-46\"/>\n       <use x=\"95.410156\" xlink:href=\"#DejaVuSans-48\"/>\n      </g>\n     </g>\n    </g>\n    <g id=\"ytick_6\">\n     <g id=\"line2d_15\">\n      <g>\n       <use style=\"stroke:#000000;stroke-width:0.8;\" x=\"38.482813\" xlink:href=\"#m331990617d\" y=\"92.539219\"/>\n      </g>\n     </g>\n     <g id=\"text_15\">\n      <!-- 0.5 -->\n      <g transform=\"translate(15.579688 96.338437)scale(0.1 -0.1)\">\n       <use xlink:href=\"#DejaVuSans-48\"/>\n       <use x=\"63.623047\" xlink:href=\"#DejaVuSans-46\"/>\n       <use x=\"95.410156\" xlink:href=\"#DejaVuSans-53\"/>\n      </g>\n     </g>\n    </g>\n    <g id=\"ytick_7\">\n     <g id=\"line2d_16\">\n      <g>\n       <use style=\"stroke:#000000;stroke-width:0.8;\" x=\"38.482813\" xlink:href=\"#m331990617d\" y=\"65.359219\"/>\n      </g>\n     </g>\n     <g id=\"text_16\">\n      <!-- 1.0 -->\n      <g transform=\"translate(15.579688 69.158437)scale(0.1 -0.1)\">\n       <use xlink:href=\"#DejaVuSans-49\"/>\n       <use x=\"63.623047\" xlink:href=\"#DejaVuSans-46\"/>\n       <use x=\"95.410156\" xlink:href=\"#DejaVuSans-48\"/>\n      </g>\n     </g>\n    </g>\n    <g id=\"ytick_8\">\n     <g id=\"line2d_17\">\n      <g>\n       <use style=\"stroke:#000000;stroke-width:0.8;\" x=\"38.482813\" xlink:href=\"#m331990617d\" y=\"38.179219\"/>\n      </g>\n     </g>\n     <g id=\"text_17\">\n      <!-- 1.5 -->\n      <g transform=\"translate(15.579688 41.978437)scale(0.1 -0.1)\">\n       <use xlink:href=\"#DejaVuSans-49\"/>\n       <use x=\"63.623047\" xlink:href=\"#DejaVuSans-46\"/>\n       <use x=\"95.410156\" xlink:href=\"#DejaVuSans-53\"/>\n      </g>\n     </g>\n    </g>\n    <g id=\"ytick_9\">\n     <g id=\"line2d_18\">\n      <g>\n       <use style=\"stroke:#000000;stroke-width:0.8;\" x=\"38.482813\" xlink:href=\"#m331990617d\" y=\"10.999219\"/>\n      </g>\n     </g>\n     <g id=\"text_18\">\n      <!-- 2.0 -->\n      <g transform=\"translate(15.579688 14.798437)scale(0.1 -0.1)\">\n       <use xlink:href=\"#DejaVuSans-50\"/>\n       <use x=\"63.623047\" xlink:href=\"#DejaVuSans-46\"/>\n       <use x=\"95.410156\" xlink:href=\"#DejaVuSans-48\"/>\n      </g>\n     </g>\n    </g>\n   </g>\n   <g id=\"line2d_19\">\n    <path clip-path=\"url(#pa6dd0dc2d4)\" d=\"M 20.010251 -1 \nL 26.52567 3.231519 \nL 43.607302 14.325397 \nL 60.688935 25.419275 \nL 77.770568 36.513152 \nL 94.8522 47.60703 \nL 111.933833 58.700907 \nL 129.015466 69.794785 \nL 146.097098 80.888662 \nL 163.178731 91.98254 \nL 180.260364 103.076417 \nL 197.341996 114.170295 \nL 214.423629 125.264172 \nL 231.505261 136.35805 \nL 248.586894 147.451928 \nL 265.668527 158.545805 \nL 282.750159 169.639683 \nL 299.831792 180.73356 \nL 316.913425 191.827438 \nL 333.995057 202.921315 \nL 351.07669 214.015193 \nL 368.158323 225.10907 \nL 385.239955 236.202948 \nL 389.434375 238.927066 \n\" style=\"fill:none;stroke:#1f77b4;stroke-linecap:square;stroke-width:1.5;\"/>\n   </g>\n   <g id=\"patch_3\">\n    <path d=\"M 38.482813 228.439219 \nL 38.482813 10.999219 \n\" style=\"fill:none;stroke:#000000;stroke-linecap:square;stroke-linejoin:miter;stroke-width:0.8;\"/>\n   </g>\n   <g id=\"patch_4\">\n    <path d=\"M 373.282813 228.439219 \nL 373.282813 10.999219 \n\" style=\"fill:none;stroke:#000000;stroke-linecap:square;stroke-linejoin:miter;stroke-width:0.8;\"/>\n   </g>\n   <g id=\"patch_5\">\n    <path d=\"M 38.482812 228.439219 \nL 373.282812 228.439219 \n\" style=\"fill:none;stroke:#000000;stroke-linecap:square;stroke-linejoin:miter;stroke-width:0.8;\"/>\n   </g>\n   <g id=\"patch_6\">\n    <path d=\"M 38.482812 10.999219 \nL 373.282812 10.999219 \n\" style=\"fill:none;stroke:#000000;stroke-linecap:square;stroke-linejoin:miter;stroke-width:0.8;\"/>\n   </g>\n  </g>\n </g>\n <defs>\n  <clipPath id=\"pa6dd0dc2d4\">\n   <rect height=\"217.44\" width=\"334.8\" x=\"38.482813\" y=\"10.999219\"/>\n  </clipPath>\n </defs>\n</svg>\n",
      "image/png": "[encoded data removed]"
     },
     "metadata": {
      "needs_background": "light"
     }
    }
   ],
   "source": [
    "np.random.seed(0)\n",
    "# X = np.r_[np.random.randn(20, 2) - [2, 2], np.random.randn(20, 2) + [2, 2]]\n",
    "# Y = [0] * 20 + [1] * 20\n",
    "\n",
    "fig, ax = plt.subplots()\n",
    "clf2 = svm.LinearSVC().fit(X, Y)\n",
    "\n",
    "# get the separating hyperplane\n",
    "w = clf2.coef_[0]\n",
    "a = -w[0] / w[1]\n",
    "b = clf2.intercept_[0]\n",
    "xx = np.linspace(-5, 5)\n",
    "yy = a * xx - (b) / w[1]\n",
    "\n",
    "# create a mesh to plot in\n",
    "x_min, x_max = X[:, 0].min() - 1, X[:, 0].max() + 1\n",
    "y_min, y_max = X[:, 1].min() - 1, X[:, 1].max() + 1\n",
    "xx2, yy2 = np.meshgrid(np.arange(x_min, x_max, .2),\n",
    "                     np.arange(y_min, y_max, .2))\n",
    "Z = clf2.predict(np.c_[xx2.ravel(), yy2.ravel()])\n",
    "\n",
    "Z = Z.reshape(xx2.shape)\n",
    "ax.contourf(xx2, yy2, Z, cmap=plt.cm.coolwarm, alpha=0.3)\n",
    "ax.scatter(X[:, 0], X[:, 1], c=Y, cmap=plt.cm.coolwarm, s=25)\n",
    "ax.plot(xx,yy)\n",
    "\n",
    "ax.axis([x_min, x_max,y_min, y_max])\n",
    "plt.show()"
   ]
  },
  {
   "cell_type": "code",
   "execution_count": null,
   "metadata": {},
   "outputs": [],
   "source": []
  }
 ]
}